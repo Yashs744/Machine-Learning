{
 "cells": [
  {
   "cell_type": "markdown",
   "metadata": {},
   "source": [
    "# Exploratory Data Analysis.\n",
    "<b>Author:</b> Yash Sharma<br/>\n",
    "<b>Date:</b> 12th September, 2017<br />\n",
    "<b>Source of Data:</b> [Crime in LA](https://www.kaggle.com/cityofLA/crime-in-los-angeles/data)\n",
    "\n",
    "A short EDA on Crimes in Los Angeles."
   ]
  },
  {
   "cell_type": "markdown",
   "metadata": {},
   "source": [
    "# Libraries"
   ]
  },
  {
   "cell_type": "code",
   "execution_count": 1,
   "metadata": {
    "collapsed": true
   },
   "outputs": [],
   "source": [
    "import pandas as pd\n",
    "import matplotlib.pyplot as plt\n",
    "import seaborn as sns\n",
    "import numpy as np\n",
    "from pylab import rcParams\n",
    "\n",
    "%matplotlib inline\n",
    "rcParams['figure.figsize'] = 12, 6"
   ]
  },
  {
   "cell_type": "code",
   "execution_count": 2,
   "metadata": {
    "collapsed": true
   },
   "outputs": [],
   "source": [
    "# lOAD the CSV File into the Memory\n",
    "df = pd.read_csv('Crime_Data_from_2010_to_Present.csv')"
   ]
  },
  {
   "cell_type": "code",
   "execution_count": 3,
   "metadata": {
    "scrolled": false
   },
   "outputs": [
    {
     "name": "stdout",
     "output_type": "stream",
     "text": [
      "<class 'pandas.core.frame.DataFrame'>\n",
      "RangeIndex: 1580583 entries, 0 to 1580582\n",
      "Data columns (total 26 columns):\n",
      "DR Number                 1580583 non-null int64\n",
      "Date Reported             1580583 non-null object\n",
      "Date Occurred             1580583 non-null object\n",
      "Time Occurred             1580583 non-null int64\n",
      "Area ID                   1580583 non-null int64\n",
      "Area Name                 1580583 non-null object\n",
      "Reporting District        1580583 non-null int64\n",
      "Crime Code                1580583 non-null int64\n",
      "Crime Code Description    1580176 non-null object\n",
      "MO Codes                  1409205 non-null object\n",
      "Victim Age                1452157 non-null float64\n",
      "Victim Sex                1435718 non-null object\n",
      "Victim Descent            1435685 non-null object\n",
      "Premise Code              1580507 non-null float64\n",
      "Premise Description       1577859 non-null object\n",
      "Weapon Used Code          523399 non-null float64\n",
      "Weapon Description        523398 non-null object\n",
      "Status Code               1580581 non-null object\n",
      "Status Description        1580583 non-null object\n",
      "Crime Code 1              1580576 non-null float64\n",
      "Crime Code 2              99735 non-null float64\n",
      "Crime Code 3              2170 non-null float64\n",
      "Crime Code 4              68 non-null float64\n",
      "Address                   1580583 non-null object\n",
      "Cross Street              262067 non-null object\n",
      "Location                  1580574 non-null object\n",
      "dtypes: float64(7), int64(5), object(14)\n",
      "memory usage: 313.5+ MB\n"
     ]
    }
   ],
   "source": [
    "df.info()"
   ]
  },
  {
   "cell_type": "markdown",
   "metadata": {},
   "source": [
    "We have 26 Columns and 1580583 Rows"
   ]
  },
  {
   "cell_type": "code",
   "execution_count": 5,
   "metadata": {},
   "outputs": [
    {
     "data": {
      "text/html": [
       "<div>\n",
       "<style>\n",
       "    .dataframe thead tr:only-child th {\n",
       "        text-align: right;\n",
       "    }\n",
       "\n",
       "    .dataframe thead th {\n",
       "        text-align: left;\n",
       "    }\n",
       "\n",
       "    .dataframe tbody tr th {\n",
       "        vertical-align: top;\n",
       "    }\n",
       "</style>\n",
       "<table border=\"1\" class=\"dataframe\">\n",
       "  <thead>\n",
       "    <tr style=\"text-align: right;\">\n",
       "      <th></th>\n",
       "      <th>DR Number</th>\n",
       "      <th>Date Reported</th>\n",
       "      <th>Date Occurred</th>\n",
       "      <th>Time Occurred</th>\n",
       "      <th>Area ID</th>\n",
       "      <th>Area Name</th>\n",
       "      <th>Reporting District</th>\n",
       "      <th>Crime Code</th>\n",
       "      <th>Crime Code Description</th>\n",
       "      <th>MO Codes</th>\n",
       "      <th>...</th>\n",
       "      <th>Weapon Description</th>\n",
       "      <th>Status Code</th>\n",
       "      <th>Status Description</th>\n",
       "      <th>Crime Code 1</th>\n",
       "      <th>Crime Code 2</th>\n",
       "      <th>Crime Code 3</th>\n",
       "      <th>Crime Code 4</th>\n",
       "      <th>Address</th>\n",
       "      <th>Cross Street</th>\n",
       "      <th>Location</th>\n",
       "    </tr>\n",
       "  </thead>\n",
       "  <tbody>\n",
       "    <tr>\n",
       "      <th>0</th>\n",
       "      <td>1208575</td>\n",
       "      <td>03/14/2013</td>\n",
       "      <td>03/11/2013</td>\n",
       "      <td>1800</td>\n",
       "      <td>12</td>\n",
       "      <td>77th Street</td>\n",
       "      <td>1241</td>\n",
       "      <td>626</td>\n",
       "      <td>INTIMATE PARTNER - SIMPLE ASSAULT</td>\n",
       "      <td>0416 0446 1243 2000</td>\n",
       "      <td>...</td>\n",
       "      <td>STRONG-ARM (HANDS, FIST, FEET OR BODILY FORCE)</td>\n",
       "      <td>AO</td>\n",
       "      <td>Adult Other</td>\n",
       "      <td>626.0</td>\n",
       "      <td>NaN</td>\n",
       "      <td>NaN</td>\n",
       "      <td>NaN</td>\n",
       "      <td>6300    BRYNHURST                    AV</td>\n",
       "      <td>NaN</td>\n",
       "      <td>(33.9829, -118.3338)</td>\n",
       "    </tr>\n",
       "    <tr>\n",
       "      <th>1</th>\n",
       "      <td>102005556</td>\n",
       "      <td>01/25/2010</td>\n",
       "      <td>01/22/2010</td>\n",
       "      <td>2300</td>\n",
       "      <td>20</td>\n",
       "      <td>Olympic</td>\n",
       "      <td>2071</td>\n",
       "      <td>510</td>\n",
       "      <td>VEHICLE - STOLEN</td>\n",
       "      <td>NaN</td>\n",
       "      <td>...</td>\n",
       "      <td>NaN</td>\n",
       "      <td>IC</td>\n",
       "      <td>Invest Cont</td>\n",
       "      <td>510.0</td>\n",
       "      <td>NaN</td>\n",
       "      <td>NaN</td>\n",
       "      <td>NaN</td>\n",
       "      <td>VAN NESS</td>\n",
       "      <td>15TH</td>\n",
       "      <td>(34.0454, -118.3157)</td>\n",
       "    </tr>\n",
       "    <tr>\n",
       "      <th>2</th>\n",
       "      <td>418</td>\n",
       "      <td>03/19/2013</td>\n",
       "      <td>03/18/2013</td>\n",
       "      <td>2030</td>\n",
       "      <td>18</td>\n",
       "      <td>Southeast</td>\n",
       "      <td>1823</td>\n",
       "      <td>510</td>\n",
       "      <td>VEHICLE - STOLEN</td>\n",
       "      <td>NaN</td>\n",
       "      <td>...</td>\n",
       "      <td>NaN</td>\n",
       "      <td>IC</td>\n",
       "      <td>Invest Cont</td>\n",
       "      <td>510.0</td>\n",
       "      <td>NaN</td>\n",
       "      <td>NaN</td>\n",
       "      <td>NaN</td>\n",
       "      <td>200 E  104TH                        ST</td>\n",
       "      <td>NaN</td>\n",
       "      <td>(33.942, -118.2717)</td>\n",
       "    </tr>\n",
       "    <tr>\n",
       "      <th>3</th>\n",
       "      <td>101822289</td>\n",
       "      <td>11/11/2010</td>\n",
       "      <td>11/10/2010</td>\n",
       "      <td>1800</td>\n",
       "      <td>18</td>\n",
       "      <td>Southeast</td>\n",
       "      <td>1803</td>\n",
       "      <td>510</td>\n",
       "      <td>VEHICLE - STOLEN</td>\n",
       "      <td>NaN</td>\n",
       "      <td>...</td>\n",
       "      <td>NaN</td>\n",
       "      <td>IC</td>\n",
       "      <td>Invest Cont</td>\n",
       "      <td>510.0</td>\n",
       "      <td>NaN</td>\n",
       "      <td>NaN</td>\n",
       "      <td>NaN</td>\n",
       "      <td>88TH</td>\n",
       "      <td>WALL</td>\n",
       "      <td>(33.9572, -118.2717)</td>\n",
       "    </tr>\n",
       "    <tr>\n",
       "      <th>4</th>\n",
       "      <td>42104479</td>\n",
       "      <td>01/11/2014</td>\n",
       "      <td>01/04/2014</td>\n",
       "      <td>2300</td>\n",
       "      <td>21</td>\n",
       "      <td>Topanga</td>\n",
       "      <td>2133</td>\n",
       "      <td>745</td>\n",
       "      <td>VANDALISM - MISDEAMEANOR ($399 OR UNDER)</td>\n",
       "      <td>0329</td>\n",
       "      <td>...</td>\n",
       "      <td>NaN</td>\n",
       "      <td>IC</td>\n",
       "      <td>Invest Cont</td>\n",
       "      <td>745.0</td>\n",
       "      <td>NaN</td>\n",
       "      <td>NaN</td>\n",
       "      <td>NaN</td>\n",
       "      <td>7200    CIRRUS                       WY</td>\n",
       "      <td>NaN</td>\n",
       "      <td>(34.2009, -118.6369)</td>\n",
       "    </tr>\n",
       "  </tbody>\n",
       "</table>\n",
       "<p>5 rows × 26 columns</p>\n",
       "</div>"
      ],
      "text/plain": [
       "   DR Number Date Reported Date Occurred  Time Occurred  Area ID    Area Name  \\\n",
       "0    1208575    03/14/2013    03/11/2013           1800       12  77th Street   \n",
       "1  102005556    01/25/2010    01/22/2010           2300       20      Olympic   \n",
       "2        418    03/19/2013    03/18/2013           2030       18    Southeast   \n",
       "3  101822289    11/11/2010    11/10/2010           1800       18    Southeast   \n",
       "4   42104479    01/11/2014    01/04/2014           2300       21      Topanga   \n",
       "\n",
       "   Reporting District  Crime Code                    Crime Code Description  \\\n",
       "0                1241         626         INTIMATE PARTNER - SIMPLE ASSAULT   \n",
       "1                2071         510                          VEHICLE - STOLEN   \n",
       "2                1823         510                          VEHICLE - STOLEN   \n",
       "3                1803         510                          VEHICLE - STOLEN   \n",
       "4                2133         745  VANDALISM - MISDEAMEANOR ($399 OR UNDER)   \n",
       "\n",
       "              MO Codes          ...           \\\n",
       "0  0416 0446 1243 2000          ...            \n",
       "1                  NaN          ...            \n",
       "2                  NaN          ...            \n",
       "3                  NaN          ...            \n",
       "4                 0329          ...            \n",
       "\n",
       "                               Weapon Description Status Code  \\\n",
       "0  STRONG-ARM (HANDS, FIST, FEET OR BODILY FORCE)          AO   \n",
       "1                                             NaN          IC   \n",
       "2                                             NaN          IC   \n",
       "3                                             NaN          IC   \n",
       "4                                             NaN          IC   \n",
       "\n",
       "  Status Description  Crime Code 1 Crime Code 2  Crime Code 3 Crime Code 4  \\\n",
       "0        Adult Other         626.0          NaN           NaN          NaN   \n",
       "1        Invest Cont         510.0          NaN           NaN          NaN   \n",
       "2        Invest Cont         510.0          NaN           NaN          NaN   \n",
       "3        Invest Cont         510.0          NaN           NaN          NaN   \n",
       "4        Invest Cont         745.0          NaN           NaN          NaN   \n",
       "\n",
       "                                   Address Cross Street             Location   \n",
       "0  6300    BRYNHURST                    AV          NaN  (33.9829, -118.3338)  \n",
       "1                                 VAN NESS         15TH  (34.0454, -118.3157)  \n",
       "2   200 E  104TH                        ST          NaN   (33.942, -118.2717)  \n",
       "3                                     88TH         WALL  (33.9572, -118.2717)  \n",
       "4  7200    CIRRUS                       WY          NaN  (34.2009, -118.6369)  \n",
       "\n",
       "[5 rows x 26 columns]"
      ]
     },
     "execution_count": 5,
     "metadata": {},
     "output_type": "execute_result"
    }
   ],
   "source": [
    "# First 5 Rows of the DataFrame\n",
    "df.head()"
   ]
  },
  {
   "cell_type": "code",
   "execution_count": 6,
   "metadata": {},
   "outputs": [
    {
     "data": {
      "text/html": [
       "<div>\n",
       "<style>\n",
       "    .dataframe thead tr:only-child th {\n",
       "        text-align: right;\n",
       "    }\n",
       "\n",
       "    .dataframe thead th {\n",
       "        text-align: left;\n",
       "    }\n",
       "\n",
       "    .dataframe tbody tr th {\n",
       "        vertical-align: top;\n",
       "    }\n",
       "</style>\n",
       "<table border=\"1\" class=\"dataframe\">\n",
       "  <thead>\n",
       "    <tr style=\"text-align: right;\">\n",
       "      <th></th>\n",
       "      <th>DR Number</th>\n",
       "      <th>Date Reported</th>\n",
       "      <th>Date Occurred</th>\n",
       "      <th>Time Occurred</th>\n",
       "      <th>Area ID</th>\n",
       "      <th>Area Name</th>\n",
       "      <th>Reporting District</th>\n",
       "      <th>Crime Code</th>\n",
       "      <th>Crime Code Description</th>\n",
       "      <th>MO Codes</th>\n",
       "      <th>...</th>\n",
       "      <th>Weapon Description</th>\n",
       "      <th>Status Code</th>\n",
       "      <th>Status Description</th>\n",
       "      <th>Crime Code 1</th>\n",
       "      <th>Crime Code 2</th>\n",
       "      <th>Crime Code 3</th>\n",
       "      <th>Crime Code 4</th>\n",
       "      <th>Address</th>\n",
       "      <th>Cross Street</th>\n",
       "      <th>Location</th>\n",
       "    </tr>\n",
       "  </thead>\n",
       "  <tbody>\n",
       "    <tr>\n",
       "      <th>1580578</th>\n",
       "      <td>172116213</td>\n",
       "      <td>08/14/2017</td>\n",
       "      <td>08/13/2017</td>\n",
       "      <td>2300</td>\n",
       "      <td>21</td>\n",
       "      <td>Topanga</td>\n",
       "      <td>2189</td>\n",
       "      <td>740</td>\n",
       "      <td>VANDALISM - FELONY ($400 &amp; OVER, ALL CHURCH VA...</td>\n",
       "      <td>0329</td>\n",
       "      <td>...</td>\n",
       "      <td>NaN</td>\n",
       "      <td>IC</td>\n",
       "      <td>Invest Cont</td>\n",
       "      <td>740.0</td>\n",
       "      <td>NaN</td>\n",
       "      <td>NaN</td>\n",
       "      <td>NaN</td>\n",
       "      <td>20700    VENTURA                      BL</td>\n",
       "      <td>NaN</td>\n",
       "      <td>(34.167, -118.5835)</td>\n",
       "    </tr>\n",
       "    <tr>\n",
       "      <th>1580579</th>\n",
       "      <td>172116214</td>\n",
       "      <td>09/01/2017</td>\n",
       "      <td>08/28/2017</td>\n",
       "      <td>1800</td>\n",
       "      <td>21</td>\n",
       "      <td>Topanga</td>\n",
       "      <td>2158</td>\n",
       "      <td>440</td>\n",
       "      <td>THEFT PLAIN - PETTY ($950 &amp; UNDER)</td>\n",
       "      <td>0344</td>\n",
       "      <td>...</td>\n",
       "      <td>NaN</td>\n",
       "      <td>IC</td>\n",
       "      <td>Invest Cont</td>\n",
       "      <td>440.0</td>\n",
       "      <td>480.0</td>\n",
       "      <td>NaN</td>\n",
       "      <td>NaN</td>\n",
       "      <td>21300    ERWIN                        ST</td>\n",
       "      <td>NaN</td>\n",
       "      <td>(34.1829, -118.5959)</td>\n",
       "    </tr>\n",
       "    <tr>\n",
       "      <th>1580580</th>\n",
       "      <td>172116215</td>\n",
       "      <td>09/01/2017</td>\n",
       "      <td>09/01/2017</td>\n",
       "      <td>830</td>\n",
       "      <td>21</td>\n",
       "      <td>Topanga</td>\n",
       "      <td>2157</td>\n",
       "      <td>930</td>\n",
       "      <td>CRIMINAL THREATS - NO WEAPON DISPLAYED</td>\n",
       "      <td>0421</td>\n",
       "      <td>...</td>\n",
       "      <td>VERBAL THREAT</td>\n",
       "      <td>IC</td>\n",
       "      <td>Invest Cont</td>\n",
       "      <td>930.0</td>\n",
       "      <td>NaN</td>\n",
       "      <td>NaN</td>\n",
       "      <td>NaN</td>\n",
       "      <td>6800    INDEPENDENCE                 AV</td>\n",
       "      <td>NaN</td>\n",
       "      <td>(34.1938, -118.5906)</td>\n",
       "    </tr>\n",
       "    <tr>\n",
       "      <th>1580581</th>\n",
       "      <td>172116216</td>\n",
       "      <td>09/01/2017</td>\n",
       "      <td>08/28/2017</td>\n",
       "      <td>1600</td>\n",
       "      <td>21</td>\n",
       "      <td>Topanga</td>\n",
       "      <td>2175</td>\n",
       "      <td>440</td>\n",
       "      <td>THEFT PLAIN - PETTY ($950 &amp; UNDER)</td>\n",
       "      <td>0344</td>\n",
       "      <td>...</td>\n",
       "      <td>NaN</td>\n",
       "      <td>IC</td>\n",
       "      <td>Invest Cont</td>\n",
       "      <td>440.0</td>\n",
       "      <td>NaN</td>\n",
       "      <td>NaN</td>\n",
       "      <td>NaN</td>\n",
       "      <td>TOPANGA CANYON               BL</td>\n",
       "      <td>VENTURA                      BL</td>\n",
       "      <td>(34.171, -118.6058)</td>\n",
       "    </tr>\n",
       "    <tr>\n",
       "      <th>1580582</th>\n",
       "      <td>172116217</td>\n",
       "      <td>09/02/2017</td>\n",
       "      <td>09/01/2017</td>\n",
       "      <td>1430</td>\n",
       "      <td>21</td>\n",
       "      <td>Topanga</td>\n",
       "      <td>2158</td>\n",
       "      <td>330</td>\n",
       "      <td>BURGLARY FROM VEHICLE</td>\n",
       "      <td>1606 0344</td>\n",
       "      <td>...</td>\n",
       "      <td>NaN</td>\n",
       "      <td>IC</td>\n",
       "      <td>Invest Cont</td>\n",
       "      <td>330.0</td>\n",
       "      <td>NaN</td>\n",
       "      <td>NaN</td>\n",
       "      <td>NaN</td>\n",
       "      <td>6500    CANOGA                       AV</td>\n",
       "      <td>NaN</td>\n",
       "      <td>(34.1884, -118.5975)</td>\n",
       "    </tr>\n",
       "  </tbody>\n",
       "</table>\n",
       "<p>5 rows × 26 columns</p>\n",
       "</div>"
      ],
      "text/plain": [
       "         DR Number Date Reported Date Occurred  Time Occurred  Area ID  \\\n",
       "1580578  172116213    08/14/2017    08/13/2017           2300       21   \n",
       "1580579  172116214    09/01/2017    08/28/2017           1800       21   \n",
       "1580580  172116215    09/01/2017    09/01/2017            830       21   \n",
       "1580581  172116216    09/01/2017    08/28/2017           1600       21   \n",
       "1580582  172116217    09/02/2017    09/01/2017           1430       21   \n",
       "\n",
       "        Area Name  Reporting District  Crime Code  \\\n",
       "1580578   Topanga                2189         740   \n",
       "1580579   Topanga                2158         440   \n",
       "1580580   Topanga                2157         930   \n",
       "1580581   Topanga                2175         440   \n",
       "1580582   Topanga                2158         330   \n",
       "\n",
       "                                    Crime Code Description   MO Codes  \\\n",
       "1580578  VANDALISM - FELONY ($400 & OVER, ALL CHURCH VA...       0329   \n",
       "1580579                 THEFT PLAIN - PETTY ($950 & UNDER)       0344   \n",
       "1580580             CRIMINAL THREATS - NO WEAPON DISPLAYED       0421   \n",
       "1580581                 THEFT PLAIN - PETTY ($950 & UNDER)       0344   \n",
       "1580582                              BURGLARY FROM VEHICLE  1606 0344   \n",
       "\n",
       "                 ...           Weapon Description Status Code  \\\n",
       "1580578          ...                          NaN          IC   \n",
       "1580579          ...                          NaN          IC   \n",
       "1580580          ...                VERBAL THREAT          IC   \n",
       "1580581          ...                          NaN          IC   \n",
       "1580582          ...                          NaN          IC   \n",
       "\n",
       "        Status Description  Crime Code 1 Crime Code 2  Crime Code 3  \\\n",
       "1580578        Invest Cont         740.0          NaN           NaN   \n",
       "1580579        Invest Cont         440.0        480.0           NaN   \n",
       "1580580        Invest Cont         930.0          NaN           NaN   \n",
       "1580581        Invest Cont         440.0          NaN           NaN   \n",
       "1580582        Invest Cont         330.0          NaN           NaN   \n",
       "\n",
       "        Crime Code 4                                   Address  \\\n",
       "1580578          NaN  20700    VENTURA                      BL   \n",
       "1580579          NaN  21300    ERWIN                        ST   \n",
       "1580580          NaN   6800    INDEPENDENCE                 AV   \n",
       "1580581          NaN           TOPANGA CANYON               BL   \n",
       "1580582          NaN   6500    CANOGA                       AV   \n",
       "\n",
       "                            Cross Street             Location   \n",
       "1580578                              NaN   (34.167, -118.5835)  \n",
       "1580579                              NaN  (34.1829, -118.5959)  \n",
       "1580580                              NaN  (34.1938, -118.5906)  \n",
       "1580581  VENTURA                      BL   (34.171, -118.6058)  \n",
       "1580582                              NaN  (34.1884, -118.5975)  \n",
       "\n",
       "[5 rows x 26 columns]"
      ]
     },
     "execution_count": 6,
     "metadata": {},
     "output_type": "execute_result"
    }
   ],
   "source": [
    "# Last 5 Rows\n",
    "df.tail()"
   ]
  },
  {
   "cell_type": "markdown",
   "metadata": {},
   "source": [
    "## Victims (Age, Sex and Descent)"
   ]
  },
  {
   "cell_type": "markdown",
   "metadata": {},
   "source": [
    "We'll start by first exploring the Data for the Victims.<br />\n",
    "We particulary intrested in knowing whether Victim's Age, Sex or Descent have something in common.<br />\n",
    "\n",
    "##### Is Age a Factor ? \n",
    "##### Does People from certain Descent being target the most ?\n",
    "##### Are Female being targeted more then Males?<br />\n",
    "\n",
    "\n",
    "We gonna find out the Answer to these kind of Questions."
   ]
  },
  {
   "cell_type": "code",
   "execution_count": 7,
   "metadata": {
    "collapsed": true
   },
   "outputs": [],
   "source": [
    "# Select the Columns with Victim's Age, Sex and Descent.\n",
    "victim = df[['Victim Age', 'Victim Sex', 'Victim Descent']]"
   ]
  },
  {
   "cell_type": "code",
   "execution_count": 8,
   "metadata": {},
   "outputs": [
    {
     "data": {
      "text/plain": [
       "Victim Age        True\n",
       "Victim Sex        True\n",
       "Victim Descent    True\n",
       "dtype: bool"
      ]
     },
     "execution_count": 8,
     "metadata": {},
     "output_type": "execute_result"
    }
   ],
   "source": [
    "# Checking whether we have NULL Values.\n",
    "victim.isnull().any()"
   ]
  },
  {
   "cell_type": "markdown",
   "metadata": {},
   "source": [
    "```\n",
    "All 3 Columns have NULL Values, we need to deal with them while performing analysis.\n",
    "```"
   ]
  },
  {
   "cell_type": "markdown",
   "metadata": {},
   "source": [
    "## 1. Age\n",
    "We'll start with Age."
   ]
  },
  {
   "cell_type": "code",
   "execution_count": 9,
   "metadata": {},
   "outputs": [
    {
     "data": {
      "image/png": "[encoded data removed]",
      "text/plain": [
       "<matplotlib.figure.Figure at 0x18d808ff358>"
      ]
     },
     "metadata": {},
     "output_type": "display_data"
    }
   ],
   "source": [
    "# Histogram using Matplotlib.\n",
    "\n",
    "bins = np.arange(victim['Victim Age'].min(), victim['Victim Age'].max(), 5)\n",
    "plt.hist(victim['Victim Age'].dropna(), bins=bins, alpha=1, edgecolor='black')"
   ]
  },
  {
   "cell_type": "code",
   "execution_count": 11,
   "metadata": {},
   "outputs": [
    {
     "data": {
      "image/png": "[encoded data removed]",
      "text/plain": [
       "<matplotlib.figure.Figure at 0x18d80446fd0>"
      ]
     },
     "metadata": {},
     "output_type": "display_data"
    }
   ],
   "source": [
    "# Distplot using Seaborn\n",
    "sns.distplot(victim['Victim Age'].dropna())"
   ]
  },
  {
   "cell_type": "markdown",
   "metadata": {},
   "source": [
    "These plot clearly shows that People with the Age b/w 20 years - 35 years are being target the most.<br />\n",
    "We can also see that we have a peek value b/w the age 25 and 30.\n",
    "\n",
    "Further, after the age of 40 the number of number of victims keeps on decreasing.<br />\n",
    "We also see something intreseting teenagers b/w the age of 10 and 15 are also being targeted more but then their is a suddent drop b/w the age 15 and 20."
   ]
  },
  {
   "cell_type": "markdown",
   "metadata": {},
   "source": [
    "## 2. Sex\n",
    "We saw in the last section that the People b/w the age of 20 and 35 years are being target more.\n",
    "\n",
    "Let's see does the Sex of the Victim Matters."
   ]
  },
  {
   "cell_type": "code",
   "execution_count": 19,
   "metadata": {},
   "outputs": [
    {
     "data": {
      "image/png": "[encoded data removed]",
      "text/plain": [
       "<matplotlib.figure.Figure at 0x18d8068b9b0>"
      ]
     },
     "metadata": {},
     "output_type": "display_data"
    }
   ],
   "source": [
    "# Seaborns Count Plot\n",
    "plt.title('Number of Victims as per Sex')\n",
    "sns.countplot('Victim Sex', data=victim)"
   ]
  },
  {
   "cell_type": "markdown",
   "metadata": {},
   "source": [
    "```According to the Graph, Victim Count of Male is higher than that of Female.```"
   ]
  },
  {
   "cell_type": "code",
   "execution_count": 24,
   "metadata": {},
   "outputs": [
    {
     "data": {
      "text/plain": [
       "<matplotlib.axes._subplots.AxesSubplot at 0x18d8463d898>"
      ]
     },
     "execution_count": 24,
     "metadata": {},
     "output_type": "execute_result"
    },
    {
     "data": {
      "image/png": "[encoded data removed]",
      "text/plain": [
       "<matplotlib.figure.Figure at 0x18d80371e80>"
      ]
     },
     "metadata": {},
     "output_type": "display_data"
    }
   ],
   "source": [
    "# Number of Victims according to Sex of the Victim b/w the age group 20 and 35 years\n",
    "sns.countplot('Victim Sex', data=victim[(victim['Victim Age'] >= 20) & (victim['Victim Age'] <= 35)])"
   ]
  },
  {
   "cell_type": "markdown",
   "metadata": {},
   "source": [
    "```As we can see, Females in the age group 20-35 Years are being targeted more.```"
   ]
  },
  {
   "cell_type": "code",
   "execution_count": 25,
   "metadata": {},
   "outputs": [
    {
     "data": {
      "text/plain": [
       "<matplotlib.axes._subplots.AxesSubplot at 0x18d80771518>"
      ]
     },
     "execution_count": 25,
     "metadata": {},
     "output_type": "execute_result"
    },
    {
     "data": {
      "image/png": "[encoded data removed]",
      "text/plain": [
       "<matplotlib.figure.Figure at 0x18d807269b0>"
      ]
     },
     "metadata": {},
     "output_type": "display_data"
    }
   ],
   "source": [
    "# Number of Victims according to Sex of the Victim b/w the age group 10 and 15 years\n",
    "sns.countplot('Victim Sex', data=victim[(victim['Victim Age'] >= 10) & (victim['Victim Age'] <= 15)])"
   ]
  },
  {
   "cell_type": "markdown",
   "metadata": {},
   "source": [
    "```Boys in their have been target more much more```"
   ]
  },
  {
   "cell_type": "markdown",
   "metadata": {},
   "source": [
    "## 3. Descent"
   ]
  },
  {
   "cell_type": "code",
   "execution_count": 26,
   "metadata": {},
   "outputs": [
    {
     "data": {
      "text/plain": [
       "array(['W', nan, 'O', 'H', 'B', 'A', 'X', 'F', 'I', 'K', 'G', 'C', 'J',\n",
       "       'Z', 'P', 'V', 'U', 'L', 'S', 'D', '-'], dtype=object)"
      ]
     },
     "execution_count": 26,
     "metadata": {},
     "output_type": "execute_result"
    }
   ],
   "source": [
    "victim['Victim Descent'].unique()"
   ]
  },
  {
   "cell_type": "code",
   "execution_count": 36,
   "metadata": {},
   "outputs": [
    {
     "data": {
      "text/plain": [
       "<matplotlib.axes._subplots.AxesSubplot at 0x18d8544efd0>"
      ]
     },
     "execution_count": 36,
     "metadata": {},
     "output_type": "execute_result"
    },
    {
     "data": {
      "image/png": "[encoded data removed]",
      "text/plain": [
       "<matplotlib.figure.Figure at 0x18d98a4cc50>"
      ]
     },
     "metadata": {},
     "output_type": "display_data"
    }
   ],
   "source": [
    "sns.countplot('Victim Descent', data=victim)"
   ]
  },
  {
   "cell_type": "markdown",
   "metadata": {},
   "source": [
    "```People who were from the Descent H have been targeted the most followed by W and B```"
   ]
  },
  {
   "cell_type": "markdown",
   "metadata": {},
   "source": [
    "## Area of Crime\n",
    "In the DataFrame, we can see that we have 3 Columns Area ID, Name and Reporting District.\n",
    "\n",
    "Let's Analyse \n",
    "##### which Area have more Crime Rate ?"
   ]
  },
  {
   "cell_type": "code",
   "execution_count": 37,
   "metadata": {
    "collapsed": true
   },
   "outputs": [],
   "source": [
    "# Area ID, Area Name and Reporting District.\n",
    "area = df[['Area ID', 'Area Name', 'Reporting District']]"
   ]
  },
  {
   "cell_type": "code",
   "execution_count": 38,
   "metadata": {},
   "outputs": [
    {
     "data": {
      "text/plain": [
       "Area ID               False\n",
       "Area Name             False\n",
       "Reporting District    False\n",
       "dtype: bool"
      ]
     },
     "execution_count": 38,
     "metadata": {},
     "output_type": "execute_result"
    }
   ],
   "source": [
    "area.isnull().any()"
   ]
  },
  {
   "cell_type": "markdown",
   "metadata": {},
   "source": [
    "No NULL Values."
   ]
  },
  {
   "cell_type": "code",
   "execution_count": 44,
   "metadata": {},
   "outputs": [
    {
     "data": {
      "text/plain": [
       "<matplotlib.axes._subplots.AxesSubplot at 0x18d831e5a20>"
      ]
     },
     "execution_count": 44,
     "metadata": {},
     "output_type": "execute_result"
    },
    {
     "data": {
      "image/png": "[encoded data removed]",
      "text/plain": [
       "<matplotlib.figure.Figure at 0x18d832779b0>"
      ]
     },
     "metadata": {},
     "output_type": "display_data"
    }
   ],
   "source": [
    "# Which area have more Crime.\n",
    "plt.title('Number of Crimes in Different Area')\n",
    "sns.countplot(x='Area ID', data=area)"
   ]
  },
  {
   "cell_type": "markdown",
   "metadata": {},
   "source": [
    "<center>\n",
    "```\n",
    "Area ID 12 is 77th Street\n",
    "Area ID 3 is Southwest\n",
    "```\n",
    "<br /><br />\n",
    "\n",
    "These two Areas have the highest number of Crime Rate.\n",
    "</center>"
   ]
  },
  {
   "cell_type": "markdown",
   "metadata": {},
   "source": [
    "## Crime\n",
    "Now we know Area with the ID 12 and 3 have the Highest Number of Crime Rates but question aries <b>which type of crimes are more common in these areas.</b>"
   ]
  },
  {
   "cell_type": "code",
   "execution_count": 45,
   "metadata": {
    "collapsed": true
   },
   "outputs": [],
   "source": [
    "# Crime Code and it's Description\n",
    "crime = df[['Crime Code', 'Crime Code Description']]"
   ]
  },
  {
   "cell_type": "code",
   "execution_count": 46,
   "metadata": {},
   "outputs": [
    {
     "data": {
      "text/plain": [
       "Crime Code                False\n",
       "Crime Code Description     True\n",
       "dtype: bool"
      ]
     },
     "execution_count": 46,
     "metadata": {},
     "output_type": "execute_result"
    }
   ],
   "source": [
    "# Checking NULL Values.\n",
    "crime.isnull().any()"
   ]
  },
  {
   "cell_type": "markdown",
   "metadata": {},
   "source": [
    "Description have some NULL Values"
   ]
  },
  {
   "cell_type": "markdown",
   "metadata": {},
   "source": [
    "### Top 10 Crimes.\n",
    "These are overall Top 10 Crimes."
   ]
  },
  {
   "cell_type": "code",
   "execution_count": 61,
   "metadata": {},
   "outputs": [
    {
     "data": {
      "text/plain": [
       "BATTERY - SIMPLE ASSAULT                                        145399\n",
       "BURGLARY FROM VEHICLE                                           121062\n",
       "VEHICLE - STOLEN                                                121053\n",
       "BURGLARY                                                        114541\n",
       "THEFT PLAIN - PETTY ($950 & UNDER)                              113471\n",
       "THEFT OF IDENTITY                                               100438\n",
       "INTIMATE PARTNER - SIMPLE ASSAULT                                85667\n",
       "VANDALISM - FELONY ($400 & OVER, ALL CHURCH VANDALISMS) 0114     79236\n",
       "VANDALISM - MISDEAMEANOR ($399 OR UNDER)                         71359\n",
       "ASSAULT WITH DEADLY WEAPON, AGGRAVATED ASSAULT                   67450\n",
       "Name: Crime Code Description, dtype: int64"
      ]
     },
     "execution_count": 61,
     "metadata": {},
     "output_type": "execute_result"
    }
   ],
   "source": [
    "crime['Crime Code Description'].value_counts()[:10]"
   ]
  },
  {
   "cell_type": "code",
   "execution_count": 64,
   "metadata": {},
   "outputs": [
    {
     "data": {
      "text/plain": [
       "<matplotlib.axes._subplots.AxesSubplot at 0x18d8ae22780>"
      ]
     },
     "execution_count": 64,
     "metadata": {},
     "output_type": "execute_result"
    },
    {
     "data": {
      "image/png": "[encoded data removed]",
      "text/plain": [
       "<matplotlib.figure.Figure at 0x18d8ae2f400>"
      ]
     },
     "metadata": {},
     "output_type": "display_data"
    }
   ],
   "source": [
    "plt.title('Number of Crimes according to Crime Description')\n",
    "crime['Crime Code Description'].value_counts()[:10].plot(kind='bar')"
   ]
  },
  {
   "cell_type": "code",
   "execution_count": 63,
   "metadata": {},
   "outputs": [
    {
     "data": {
      "text/plain": [
       "<matplotlib.axes._subplots.AxesSubplot at 0x18d864a6390>"
      ]
     },
     "execution_count": 63,
     "metadata": {},
     "output_type": "execute_result"
    },
    {
     "data": {
      "image/png": "[encoded data removed]",
      "text/plain": [
       "<matplotlib.figure.Figure at 0x18d864443c8>"
      ]
     },
     "metadata": {},
     "output_type": "display_data"
    }
   ],
   "source": [
    "plt.title('Number of Crimes according to Crime Code')\n",
    "crime['Crime Code'].value_counts()[:10].plot(kind='bar')"
   ]
  },
  {
   "cell_type": "markdown",
   "metadata": {},
   "source": [
    "Both Plot's are same the only difference is the x-axis i.e 1st one shows the Description of the Crime and the 2nd one the Code of the Crime <br />\n",
    "\n",
    "According to the Graph, ```BATTERY - SIMPLE ASSAULT has the Highest Crime Rate followed by BURGLARY FROM VEHICLE```"
   ]
  },
  {
   "cell_type": "markdown",
   "metadata": {},
   "source": [
    "### Crime and Area "
   ]
  },
  {
   "cell_type": "code",
   "execution_count": 65,
   "metadata": {
    "collapsed": true
   },
   "outputs": [],
   "source": [
    "area_crime = pd.concat(objs=[area, crime], axis=1)"
   ]
  },
  {
   "cell_type": "markdown",
   "metadata": {},
   "source": [
    "First, let's see total number of crimes in the Area ID 12 and 3."
   ]
  },
  {
   "cell_type": "code",
   "execution_count": 119,
   "metadata": {},
   "outputs": [
    {
     "name": "stdout",
     "output_type": "stream",
     "text": [
      "Number of Crimes in Area ID 12 i.e 77th Street 110324\n",
      "Number of Crimes in Area ID 3 i.e Southwest 101989\n"
     ]
    }
   ],
   "source": [
    "print (\"Number of Crimes in Area ID 12 i.e 77th Street\", len(area_crime[(area_crime['Area ID'] == 12)]))\n",
    "print (\"Number of Crimes in Area ID 3 i.e Southwest\", len(area_crime[(area_crime['Area ID'] == 3)]))"
   ]
  },
  {
   "cell_type": "code",
   "execution_count": 67,
   "metadata": {
    "collapsed": true
   },
   "outputs": [],
   "source": [
    "# Select the Area with the ID 12 and 3 Respectively.\n",
    "area_crime_12 = area_crime[(area_crime['Area ID'] == 12)]\n",
    "area_crime_3 = area_crime[(area_crime['Area ID'] == 3)]"
   ]
  },
  {
   "cell_type": "markdown",
   "metadata": {},
   "source": [
    "### Top 10 Crimes in Area ID 12 (77th Street) and 3 (Southwest) "
   ]
  },
  {
   "cell_type": "code",
   "execution_count": 125,
   "metadata": {},
   "outputs": [
    {
     "data": {
      "text/plain": [
       "BATTERY - SIMPLE ASSAULT                          12182\n",
       "VEHICLE - STOLEN                                   9811\n",
       "ASSAULT WITH DEADLY WEAPON, AGGRAVATED ASSAULT     8940\n",
       "ROBBERY                                            7815\n",
       "BURGLARY                                           7769\n",
       "INTIMATE PARTNER - SIMPLE ASSAULT                  7122\n",
       "BURGLARY FROM VEHICLE                              5858\n",
       "VANDALISM - MISDEAMEANOR ($399 OR UNDER)           5344\n",
       "THEFT PLAIN - PETTY ($950 & UNDER)                 5267\n",
       "THEFT OF IDENTITY                                  5125\n",
       "Name: Crime Code Description, dtype: int64"
      ]
     },
     "execution_count": 125,
     "metadata": {},
     "output_type": "execute_result"
    }
   ],
   "source": [
    "area_crime_12['Crime Code Description'].value_counts()[:10]."
   ]
  },
  {
   "cell_type": "code",
   "execution_count": 126,
   "metadata": {},
   "outputs": [
    {
     "data": {
      "text/plain": [
       "BATTERY - SIMPLE ASSAULT                          11169\n",
       "THEFT PLAIN - PETTY ($950 & UNDER)                 9712\n",
       "VEHICLE - STOLEN                                   7064\n",
       "BURGLARY                                           6907\n",
       "BURGLARY FROM VEHICLE                              6012\n",
       "ROBBERY                                            5611\n",
       "INTIMATE PARTNER - SIMPLE ASSAULT                  5606\n",
       "ASSAULT WITH DEADLY WEAPON, AGGRAVATED ASSAULT     5489\n",
       "THEFT OF IDENTITY                                  5163\n",
       "VANDALISM - MISDEAMEANOR ($399 OR UNDER)           4819\n",
       "Name: Crime Code Description, dtype: int64"
      ]
     },
     "execution_count": 126,
     "metadata": {},
     "output_type": "execute_result"
    }
   ],
   "source": [
    "area_crime_3['Crime Code Description'].value_counts()[:10]"
   ]
  },
  {
   "cell_type": "markdown",
   "metadata": {},
   "source": [
    "Both areas have Simple Assault at the TOP."
   ]
  },
  {
   "cell_type": "markdown",
   "metadata": {},
   "source": [
    "<center>\n",
    "We can further analyse the Date of Occurence and also which type of Wepons are more Common etc\n",
    "</center>"
   ]
  },
  {
   "cell_type": "code",
   "execution_count": null,
   "metadata": {
    "collapsed": true
   },
   "outputs": [],
   "source": []
  }
 ],
 "metadata": {
  "kernelspec": {
   "display_name": "Python 3",
   "language": "python",
   "name": "python3"
  },
  "language_info": {
   "codemirror_mode": {
    "name": "ipython",
    "version": 3
   },
   "file_extension": ".py",
   "mimetype": "text/x-python",
   "name": "python",
   "nbconvert_exporter": "python",
   "pygments_lexer": "ipython3",
   "version": "3.5.2"
  }
 },
 "nbformat": 4,
 "nbformat_minor": 2
}
