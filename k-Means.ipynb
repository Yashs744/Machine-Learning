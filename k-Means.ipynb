{
 "cells": [
  {
   "cell_type": "markdown",
   "metadata": {},
   "source": [
    "# k-Means Clustering\n",
    "k-Means clustering is a type of unsupervised learning, which is used when we have unlabeled data. The main goal here is to find the group (clusters) for the unlabeled data, where number of clusters (group) is represented by 'k'.<br />\n",
    "It works iteratively to assign each of the data point that we have to one of the k-groups based on the features that we have.\n",
    "\n",
    "<b>Keypoint</b>: Data Points are clustered based on features similarity."
   ]
  },
  {
   "cell_type": "markdown",
   "metadata": {},
   "source": [
    "Each centroid (center) of the cluster (group) is a collection of feature values which defines the resulting clusters (groups).<br />\n",
    "We can interpret what kind of group each cluster represents by examining the centroid feature weights."
   ]
  },
  {
   "cell_type": "markdown",
   "metadata": {},
   "source": [
    "# Working (Algorithm):\n",
    "1. Initially we have data points let's say we have n data points denoted by \\begin{equation*} x_1, x_2, . . . . , x_n \\end{equation*} and a value of 'k' that defines the number of clusters (group) we want.\n",
    "\n",
    "2. Randomly place centroids \begin{equation*} c_1, c_2 ..... , c_k \end{equation*}. Each centroid represents one of the cluster. \n",
    "\n",
    "3. <b>Data Assigment Step</b>:<br />\n",
    "    In this step we assign each data point to its nearest centroid by calculating the <i><b>euclidean distance</b></i> b/w each of the centroid and the data point.\n",
    "    \\begin{equation*}\n",
    "    \\text{$EuclideanDistance$} = \\sqrt{(x_2 - x_1)^2 + (y_2 - y_1)^2 + (z_2 - z_1)^2}\n",
    "    \\end{equation*}\n",
    "    \n",
    "4. <b>Centroid  Update Step</b>:<br />\n",
    "    Here, each of the centroids are recomputed. This is done by taking mean of all the data points assigned to that centroid's cluster.\n",
    "    \\begin{equation*}\n",
    "     C_i = \\frac{1}{N}{\\left (\\sum_{i=1}^N x_i \\right)}\n",
    "    \\end{equation*}\n",
    "    The mean value is the new centroid for that cluster.\n",
    "4. Repeat Step 3 & 4 iteratively until convergence is achieved i.e no data point changes cluster or the sum of dis"
   ]
  },
  {
   "cell_type": "markdown",
   "metadata": {},
   "source": [
    "# Let's implement it."
   ]
  },
  {
   "cell_type": "code",
   "execution_count": 1,
   "metadata": {
    "collapsed": true
   },
   "outputs": [],
   "source": [
    "# Import Libraries.\n",
    "import numpy as np\n",
    "import matplotlib.pyplot as plt\n",
    "%matplotlib inline"
   ]
  },
  {
   "cell_type": "code",
   "execution_count": 2,
   "metadata": {
    "collapsed": true
   },
   "outputs": [],
   "source": [
    "# Calculate Euclidian Distance\n",
    "def euclidian(a, b):\n",
    "    return np.linalg.norm(a-b)"
   ]
  },
  {
   "cell_type": "code",
   "execution_count": 3,
   "metadata": {
    "collapsed": true
   },
   "outputs": [],
   "source": [
    "def k_means(X, k, epsilon=0):\n",
    "    # Number of Instance (rows) and Number of Features (columns)\n",
    "    num_instances, num_features = X.shape\n",
    "\n",
    "    # Randomly assign k centroids\n",
    "    # Here, we are randomly selecting from the data set\n",
    "    centroids = X[np.random.randint(0, num_instances-1, size=k)]\n",
    "\n",
    "    #variable to keep track of centroid at every iteration\n",
    "    old_centroids = np.zeros(centroids.shape)\n",
    "\n",
    "    #variable to store clusters\n",
    "    belongs_to = np.zeros((num_instances, 1))\n",
    "\n",
    "    # Calculate the distance for starting\n",
    "    norm = euclidian(centroids, old_centroids)\n",
    "\n",
    "    # Variable to keep track of iterations\n",
    "    iteration = 0\n",
    "\n",
    "    # Repeat until norm is > than epsilon\n",
    "    while norm > epsilon:\n",
    "        iteration += 1\n",
    "\n",
    "        # Update norm by calculating the distance b/w current centroids and old centroids\n",
    "        norm = euclidian(centroids, old_centroids)\n",
    "\n",
    "        # update the centroid\n",
    "        old_centroids = centroids\n",
    "\n",
    "        # Data Assignment Step:\n",
    "        # for each datapoint in the dataset\n",
    "        for index_data_point, data_point in enumerate(X):\n",
    "            # Calculate the distance b/w datapoint and each of the centroid\n",
    "            # We'll store the each distance in a distance vector\n",
    "            dist_vec = np.zeros((k, 1))\n",
    "\n",
    "            # for each centroid\n",
    "            for index_centroid, centroid in enumerate(centroids):\n",
    "                # Distance b/w centroid and data_point\n",
    "                dist_vec[index_centroid] = euclidian(centroid, data_point)\n",
    "\n",
    "            # finding the minimum distance and storing it in belongs_to\n",
    "            # points are assigned to the nearest centroid\n",
    "            belongs_to[index_data_point, 0] = np.argmin(dist_vec)\n",
    "\n",
    "        temp_prototype = np.zeros((k, num_features))\n",
    "\n",
    "        # Centroid Update Step:\n",
    "        # for each cluster \n",
    "        for index in range(len(centroids)):\n",
    "            # get all the data points assigned to the cluster\n",
    "            instances_close = [i for i in range(len(belongs_to)) if belongs_to[i] == index]\n",
    "\n",
    "            # find the mean of all the data point assigned to the centroid of the cluster\n",
    "            # Now, this is our new centroid\n",
    "            mean = np.mean(X[instances_close],  axis=0)\n",
    "\n",
    "            # add new centroid to the temp list\n",
    "            temp_prototype[index, :] = mean\n",
    "\n",
    "        # set the new list to the current list\n",
    "        centroids = temp_prototype\n",
    "\n",
    "    #return calculated centroids and assignments for which cluster each datapoint belongs to\n",
    "    return centroids, belongs_to"
   ]
  },
  {
   "cell_type": "code",
   "execution_count": 4,
   "metadata": {
    "collapsed": true
   },
   "outputs": [],
   "source": [
    "dataset = np.loadtxt('durudataset.txt')\n",
    "\n",
    "# Belongs contains where each data point was assigned to which of the cluster\n",
    "# Centroids represents the Centroid that were made \n",
    "# Here, as k=2 we jave two centroids\n",
    "Centroids, Belongs = k_means(dataset, 2)"
   ]
  },
  {
   "cell_type": "code",
   "execution_count": 8,
   "metadata": {},
   "outputs": [
    {
     "data": {
      "image/png": "iVBORw0KGgoAAAANSUhEUgAAAX4AAAD8CAYAAABw1c+bAAAABHNCSVQICAgIfAhkiAAAAAlwSFlz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\n1YwTv5lZzfwrKpatgGNPSKwAAAAASUVORK5CYII=\n",
      "text/plain": [
       "<matplotlib.figure.Figure at 0x20ecc06e2b0>"
      ]
     },
     "metadata": {},
     "output_type": "display_data"
    }
   ],
   "source": [
    "# Let's Plot the Centroid and Belongs\n",
    "colors = ['r', 'g']\n",
    "\n",
    "fig, ax = plt.subplots()\n",
    "\n",
    "for index in range(dataset.shape[0]):\n",
    "    instances_close = [i for i in range(len(Belongs)) if Belongs[i] == index]\n",
    "    for instance_index in instances_close:\n",
    "        ax.plot(dataset[instance_index][0], dataset[instance_index][1], (colors[index] + 'o'))\n",
    "\n",
    "plt.show()"
   ]
  },
  {
   "cell_type": "markdown",
   "metadata": {},
   "source": [
    "Our data points were clustered into two groups (red and green)."
   ]
  },
  {
   "cell_type": "code",
   "execution_count": null,
   "metadata": {
    "collapsed": true
   },
   "outputs": [],
   "source": []
  }
 ],
 "metadata": {
  "kernelspec": {
   "display_name": "Python 3",
   "language": "python",
   "name": "python3"
  },
  "language_info": {
   "codemirror_mode": {
    "name": "ipython",
    "version": 3
   },
   "file_extension": ".py",
   "mimetype": "text/x-python",
   "name": "python",
   "nbconvert_exporter": "python",
   "pygments_lexer": "ipython3",
   "version": "3.5.2"
  }
 },
 "nbformat": 4,
 "nbformat_minor": 2
}
