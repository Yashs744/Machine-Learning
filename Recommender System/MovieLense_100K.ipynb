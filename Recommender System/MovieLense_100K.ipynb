{
  "nbformat": 4,
  "nbformat_minor": 0,
  "metadata": {
    "colab": {
      "name": "MovieLense-100K.ipynb",
      "version": "0.3.2",
      "views": {},
      "default_view": {},
      "provenance": [],
      "collapsed_sections": [
        "vIK8B3gTwdkM",
        "lapIhEElxaj1",
        "zPwC_aUtyD9k",
        "9b8VQtPU806-",
        "rj4BThcP9jLU",
        "hbEM6YhLh846",
        "dQZ7s3nYocph"
      ]
    },
    "kernelspec": {
      "name": "python3",
      "display_name": "Python 3"
    },
    "accelerator": "GPU"
  },
  "cells": [
    {
      "metadata": {
        "id": "vIK8B3gTwdkM",
        "colab_type": "text"
      },
      "cell_type": "markdown",
      "source": [
        "# MovieLens"
      ]
    },
    {
      "metadata": {
        "id": "lapIhEElxaj1",
        "colab_type": "text"
      },
      "cell_type": "markdown",
      "source": [
        "## Libraries"
      ]
    },
    {
      "metadata": {
        "id": "deDmdShsntat",
        "colab_type": "code",
        "colab": {
          "autoexec": {
            "startup": false,
            "wait_interval": 0
          }
        }
      },
      "cell_type": "code",
      "source": [
        "import os"
      ],
      "execution_count": 0,
      "outputs": []
    },
    {
      "metadata": {
        "id": "C0dqCeSPxiMl",
        "colab_type": "code",
        "colab": {
          "autoexec": {
            "startup": false,
            "wait_interval": 0
          }
        }
      },
      "cell_type": "code",
      "source": [
        "import numpy as np\n",
        "import pandas as pd\n",
        "import matplotlib.pyplot as plt\n",
        "from sklearn.model_selection import train_test_split\n",
        "from sklearn.metrics import mean_squared_error, mean_absolute_error, r2_score\n",
        "\n",
        "%matplotlib inline"
      ],
      "execution_count": 0,
      "outputs": []
    },
    {
      "metadata": {
        "id": "4NWXPKtLxuGb",
        "colab_type": "code",
        "colab": {
          "autoexec": {
            "startup": false,
            "wait_interval": 0
          },
          "output_extras": [
            {
              "item_id": 1
            }
          ],
          "base_uri": "https://localhost:8080/",
          "height": 34
        },
        "outputId": "704c6b9a-5de3-4d5e-e293-018abf90f030",
        "executionInfo": {
          "status": "ok",
          "timestamp": 1521267665921,
          "user_tz": -330,
          "elapsed": 1745,
          "user": {
            "displayName": "Yash Sharma",
            "photoUrl": "https://lh3.googleusercontent.com/a/default-user=s128",
            "userId": "108976527381887191513"
          }
        }
      },
      "cell_type": "code",
      "source": [
        "import keras.backend as K\n",
        "from keras.models import Model, load_model\n",
        "from keras.layers import Input, Embedding, Flatten, Concatenate, Dense\n",
        "from keras.utils.np_utils import to_categorical"
      ],
      "execution_count": 2,
      "outputs": [
        {
          "output_type": "stream",
          "text": [
            "Using TensorFlow backend.\n"
          ],
          "name": "stderr"
        }
      ]
    },
    {
      "metadata": {
        "id": "zPwC_aUtyD9k",
        "colab_type": "text"
      },
      "cell_type": "markdown",
      "source": [
        "## Dataset\n",
        "\n",
        "[MovieLens-100K](https://grouplens.org/datasets/movielens/100k/)\n",
        "\n",
        "The Data Set consists of:\n",
        "  * 100,000 ratings (1-5) from 943 users on 1682 movies. \n",
        "  * Each user has rated at least 20 movies. \n",
        "  \n",
        "  * Data is Stored in <b><i>u.data</i></b> file <br><br>\n",
        "  - Users and items are numbered consecutively from 1. The data is randomly ordered. \n",
        "  - This is a tab separated list of \n",
        "\t     user id | item id | rating | timestamp. \n",
        "    - The time stamps are unix seconds since 1/1/1970 UTC  "
      ]
    },
    {
      "metadata": {
        "id": "m8FKepbinvai",
        "colab_type": "code",
        "colab": {
          "autoexec": {
            "startup": false,
            "wait_interval": 0
          }
        }
      },
      "cell_type": "code",
      "source": [
        "os.chdir('drive/app/Recommender System/')"
      ],
      "execution_count": 0,
      "outputs": []
    },
    {
      "metadata": {
        "id": "7LjZHWtnyhMQ",
        "colab_type": "code",
        "colab": {
          "autoexec": {
            "startup": false,
            "wait_interval": 0
          }
        }
      },
      "cell_type": "code",
      "source": [
        "# item_id -> movie_id\n",
        "movie_ratings = pd.read_csv('ml-100k/u.data', sep = '\\t', names = \"user_id,movie_id,rating,timestamp\".split(','))"
      ],
      "execution_count": 0,
      "outputs": []
    },
    {
      "metadata": {
        "id": "YUSBBNV60KNC",
        "colab_type": "code",
        "colab": {
          "autoexec": {
            "startup": false,
            "wait_interval": 0
          },
          "output_extras": [
            {
              "item_id": 1
            }
          ],
          "base_uri": "https://localhost:8080/",
          "height": 204
        },
        "outputId": "21e9e6fd-ac36-4a20-af14-4a5153a23bf3",
        "executionInfo": {
          "status": "ok",
          "timestamp": 1521267746358,
          "user_tz": -330,
          "elapsed": 970,
          "user": {
            "displayName": "Yash Sharma",
            "photoUrl": "https://lh3.googleusercontent.com/a/default-user=s128",
            "userId": "108976527381887191513"
          }
        }
      },
      "cell_type": "code",
      "source": [
        "movie_ratings.head()"
      ],
      "execution_count": 8,
      "outputs": [
        {
          "output_type": "execute_result",
          "data": {
            "text/html": [
              "<div>\n",
              "<style scoped>\n",
              "    .dataframe tbody tr th:only-of-type {\n",
              "        vertical-align: middle;\n",
              "    }\n",
              "\n",
              "    .dataframe tbody tr th {\n",
              "        vertical-align: top;\n",
              "    }\n",
              "\n",
              "    .dataframe thead th {\n",
              "        text-align: right;\n",
              "    }\n",
              "</style>\n",
              "<table border=\"1\" class=\"dataframe\">\n",
              "  <thead>\n",
              "    <tr style=\"text-align: right;\">\n",
              "      <th></th>\n",
              "      <th>user_id</th>\n",
              "      <th>movie_id</th>\n",
              "      <th>rating</th>\n",
              "      <th>timestamp</th>\n",
              "    </tr>\n",
              "  </thead>\n",
              "  <tbody>\n",
              "    <tr>\n",
              "      <th>0</th>\n",
              "      <td>196</td>\n",
              "      <td>242</td>\n",
              "      <td>3</td>\n",
              "      <td>881250949</td>\n",
              "    </tr>\n",
              "    <tr>\n",
              "      <th>1</th>\n",
              "      <td>186</td>\n",
              "      <td>302</td>\n",
              "      <td>3</td>\n",
              "      <td>891717742</td>\n",
              "    </tr>\n",
              "    <tr>\n",
              "      <th>2</th>\n",
              "      <td>22</td>\n",
              "      <td>377</td>\n",
              "      <td>1</td>\n",
              "      <td>878887116</td>\n",
              "    </tr>\n",
              "    <tr>\n",
              "      <th>3</th>\n",
              "      <td>244</td>\n",
              "      <td>51</td>\n",
              "      <td>2</td>\n",
              "      <td>880606923</td>\n",
              "    </tr>\n",
              "    <tr>\n",
              "      <th>4</th>\n",
              "      <td>166</td>\n",
              "      <td>346</td>\n",
              "      <td>1</td>\n",
              "      <td>886397596</td>\n",
              "    </tr>\n",
              "  </tbody>\n",
              "</table>\n",
              "</div>"
            ],
            "text/plain": [
              "   user_id  movie_id  rating  timestamp\n",
              "0      196       242       3  881250949\n",
              "1      186       302       3  891717742\n",
              "2       22       377       1  878887116\n",
              "3      244        51       2  880606923\n",
              "4      166       346       1  886397596"
            ]
          },
          "metadata": {
            "tags": []
          },
          "execution_count": 8
        }
      ]
    },
    {
      "metadata": {
        "id": "XCHKoPp_MjdM",
        "colab_type": "text"
      },
      "cell_type": "markdown",
      "source": [
        "As user_id and movie_id is numbered from 1, we need to convert it into (0-#_users/#_movies) to work with keras.\n",
        "    \n",
        "There are two ways to do so.\n",
        "  1. Subtract 1 from user_id and movie_id\n",
        "  2. using pandas category code\n",
        "  \n",
        "We will use the 2nd option. first convert the user_id and movie_id to category and use the code values for the respective columns."
      ]
    },
    {
      "metadata": {
        "id": "rV4YhwDqU_L-",
        "colab_type": "code",
        "colab": {
          "autoexec": {
            "startup": false,
            "wait_interval": 0
          }
        }
      },
      "cell_type": "code",
      "source": [
        "movie_ratings.user_id = movie_ratings.user_id.astype('category').cat.codes.values\n",
        "movie_ratings.movie_id = movie_ratings.movie_id.astype('category').cat.codes.values"
      ],
      "execution_count": 0,
      "outputs": []
    },
    {
      "metadata": {
        "id": "7LZHCs3g0Lxz",
        "colab_type": "code",
        "colab": {
          "autoexec": {
            "startup": false,
            "wait_interval": 0
          },
          "output_extras": [
            {
              "item_id": 1
            }
          ],
          "base_uri": "https://localhost:8080/",
          "height": 170
        },
        "outputId": "6b89b1ed-6fbc-4035-e152-2d3b3649ce3d",
        "executionInfo": {
          "status": "ok",
          "timestamp": 1521267758787,
          "user_tz": -330,
          "elapsed": 990,
          "user": {
            "displayName": "Yash Sharma",
            "photoUrl": "https://lh3.googleusercontent.com/a/default-user=s128",
            "userId": "108976527381887191513"
          }
        }
      },
      "cell_type": "code",
      "source": [
        "# Rating\n",
        "movie_ratings['rating'].describe()"
      ],
      "execution_count": 10,
      "outputs": [
        {
          "output_type": "execute_result",
          "data": {
            "text/plain": [
              "count    100000.000000\n",
              "mean          3.529860\n",
              "std           1.125674\n",
              "min           1.000000\n",
              "25%           3.000000\n",
              "50%           4.000000\n",
              "75%           4.000000\n",
              "max           5.000000\n",
              "Name: rating, dtype: float64"
            ]
          },
          "metadata": {
            "tags": []
          },
          "execution_count": 10
        }
      ]
    },
    {
      "metadata": {
        "id": "7p3OxjfQ0in0",
        "colab_type": "code",
        "colab": {
          "autoexec": {
            "startup": false,
            "wait_interval": 0
          },
          "output_extras": [
            {
              "item_id": 1
            },
            {
              "item_id": 2
            }
          ],
          "base_uri": "https://localhost:8080/",
          "height": 297
        },
        "outputId": "e0cc206d-795e-4845-84e2-79bdde8cbcc1",
        "executionInfo": {
          "status": "ok",
          "timestamp": 1521267762720,
          "user_tz": -330,
          "elapsed": 1409,
          "user": {
            "displayName": "Yash Sharma",
            "photoUrl": "https://lh3.googleusercontent.com/a/default-user=s128",
            "userId": "108976527381887191513"
          }
        }
      },
      "cell_type": "code",
      "source": [
        "movie_ratings['rating'].hist()\n",
        "plt.title('Movie Ratings')"
      ],
      "execution_count": 11,
      "outputs": [
        {
          "output_type": "execute_result",
          "data": {
            "text/plain": [
              "Text(0.5,1,'Movie Ratings')"
            ]
          },
          "metadata": {
            "tags": []
          },
          "execution_count": 11
        },
        {
          "output_type": "display_data",
          "data": {
            "image/png": "[encoded data removed]",
            "text/plain": [
              "<matplotlib.figure.Figure at 0x7f8affef6550>"
            ]
          },
          "metadata": {
            "tags": []
          }
        }
      ]
    },
    {
      "metadata": {
        "id": "25zD1r6j1LLk",
        "colab_type": "code",
        "colab": {
          "autoexec": {
            "startup": false,
            "wait_interval": 0
          },
          "output_extras": [
            {
              "item_id": 1
            }
          ],
          "base_uri": "https://localhost:8080/",
          "height": 170
        },
        "outputId": "77b6b38e-9365-4d48-8f18-b23a0b64d033",
        "executionInfo": {
          "status": "ok",
          "timestamp": 1521267765944,
          "user_tz": -330,
          "elapsed": 979,
          "user": {
            "displayName": "Yash Sharma",
            "photoUrl": "https://lh3.googleusercontent.com/a/default-user=s128",
            "userId": "108976527381887191513"
          }
        }
      },
      "cell_type": "code",
      "source": [
        "num_user = movie_ratings['user_id'].value_counts().reset_index()\n",
        "num_user.columns= ['user_id','nb_lines']\n",
        "num_user['nb_lines'].describe()"
      ],
      "execution_count": 12,
      "outputs": [
        {
          "output_type": "execute_result",
          "data": {
            "text/plain": [
              "count    943.000000\n",
              "mean     106.044539\n",
              "std      100.931743\n",
              "min       20.000000\n",
              "25%       33.000000\n",
              "50%       65.000000\n",
              "75%      148.000000\n",
              "max      737.000000\n",
              "Name: nb_lines, dtype: float64"
            ]
          },
          "metadata": {
            "tags": []
          },
          "execution_count": 12
        }
      ]
    },
    {
      "metadata": {
        "id": "I6xB_RFt17AR",
        "colab_type": "text"
      },
      "cell_type": "markdown",
      "source": [
        "Total 943 Users, 25% of the Users have rated 33 Movies and 50% of the Users have rated 65 Movies"
      ]
    },
    {
      "metadata": {
        "id": "FefJyEo71xtH",
        "colab_type": "code",
        "colab": {
          "autoexec": {
            "startup": false,
            "wait_interval": 0
          },
          "output_extras": [
            {
              "item_id": 1
            }
          ],
          "base_uri": "https://localhost:8080/",
          "height": 170
        },
        "outputId": "847f2d69-bebc-4ae4-97c2-c4f557b482c7",
        "executionInfo": {
          "status": "ok",
          "timestamp": 1521267768658,
          "user_tz": -330,
          "elapsed": 977,
          "user": {
            "displayName": "Yash Sharma",
            "photoUrl": "https://lh3.googleusercontent.com/a/default-user=s128",
            "userId": "108976527381887191513"
          }
        }
      },
      "cell_type": "code",
      "source": [
        "num_movie = movie_ratings['movie_id'].value_counts().reset_index()\n",
        "num_movie.columns= ['movie_id','nb_lines']\n",
        "num_movie['nb_lines'].describe()"
      ],
      "execution_count": 13,
      "outputs": [
        {
          "output_type": "execute_result",
          "data": {
            "text/plain": [
              "count    1682.000000\n",
              "mean       59.453032\n",
              "std        80.383846\n",
              "min         1.000000\n",
              "25%         6.000000\n",
              "50%        27.000000\n",
              "75%        80.000000\n",
              "max       583.000000\n",
              "Name: nb_lines, dtype: float64"
            ]
          },
          "metadata": {
            "tags": []
          },
          "execution_count": 13
        }
      ]
    },
    {
      "metadata": {
        "id": "dgPugKjZ4yE-",
        "colab_type": "text"
      },
      "cell_type": "markdown",
      "source": [
        "Total of 1682 Movies, with 25% of the movies having only 6 ratings and 50% of the movies have only 27 ratings or less.<br>\n",
        "There is also a movie with 583 rating"
      ]
    },
    {
      "metadata": {
        "id": "ak91jxc015mI",
        "colab_type": "code",
        "colab": {
          "autoexec": {
            "startup": false,
            "wait_interval": 0
          },
          "output_extras": [
            {
              "item_id": 1
            }
          ],
          "base_uri": "https://localhost:8080/",
          "height": 80
        },
        "outputId": "b68fc914-10b6-4261-b730-cf39c954a7e1",
        "executionInfo": {
          "status": "ok",
          "timestamp": 1521267775153,
          "user_tz": -330,
          "elapsed": 1908,
          "user": {
            "displayName": "Yash Sharma",
            "photoUrl": "https://lh3.googleusercontent.com/a/default-user=s128",
            "userId": "108976527381887191513"
          }
        }
      },
      "cell_type": "code",
      "source": [
        "num_movie[(num_movie['nb_lines'] == 583)]"
      ],
      "execution_count": 14,
      "outputs": [
        {
          "output_type": "execute_result",
          "data": {
            "text/html": [
              "<div>\n",
              "<style scoped>\n",
              "    .dataframe tbody tr th:only-of-type {\n",
              "        vertical-align: middle;\n",
              "    }\n",
              "\n",
              "    .dataframe tbody tr th {\n",
              "        vertical-align: top;\n",
              "    }\n",
              "\n",
              "    .dataframe thead th {\n",
              "        text-align: right;\n",
              "    }\n",
              "</style>\n",
              "<table border=\"1\" class=\"dataframe\">\n",
              "  <thead>\n",
              "    <tr style=\"text-align: right;\">\n",
              "      <th></th>\n",
              "      <th>movie_id</th>\n",
              "      <th>nb_lines</th>\n",
              "    </tr>\n",
              "  </thead>\n",
              "  <tbody>\n",
              "    <tr>\n",
              "      <th>0</th>\n",
              "      <td>49</td>\n",
              "      <td>583</td>\n",
              "    </tr>\n",
              "  </tbody>\n",
              "</table>\n",
              "</div>"
            ],
            "text/plain": [
              "   movie_id  nb_lines\n",
              "0        49       583"
            ]
          },
          "metadata": {
            "tags": []
          },
          "execution_count": 14
        }
      ]
    },
    {
      "metadata": {
        "id": "XKxiMl_N6Vpn",
        "colab_type": "text"
      },
      "cell_type": "markdown",
      "source": [
        "Item (Movie) 49 have most ratings. Let's see which movie it is."
      ]
    },
    {
      "metadata": {
        "id": "FaLx6kog5K-j",
        "colab_type": "code",
        "colab": {
          "autoexec": {
            "startup": false,
            "wait_interval": 0
          }
        }
      },
      "cell_type": "code",
      "source": [
        "names = \"movie_id|movie_title|release_date|video_release_date|IMDb|unknown|Action|Adventure|Animation|Children's|Comedy|Crime|Documentary|Drama|Fantasy|Film-Noir|Horror|Musical|Mystery|Romance|Sci-Fi|Thriller|War|Western\"\n",
        "\n",
        "movies = pd.read_csv('ml-100k/u.item', sep = '|', names = names.split('|'), encoding = 'latin-1')"
      ],
      "execution_count": 0,
      "outputs": []
    },
    {
      "metadata": {
        "id": "4WoJLuXOO-84",
        "colab_type": "code",
        "colab": {
          "autoexec": {
            "startup": false,
            "wait_interval": 0
          }
        }
      },
      "cell_type": "code",
      "source": [
        "movies['movie_id'] = movies['movie_id'].astype('category').cat.codes.values"
      ],
      "execution_count": 0,
      "outputs": []
    },
    {
      "metadata": {
        "id": "aATNnarR7DAA",
        "colab_type": "code",
        "colab": {
          "autoexec": {
            "startup": false,
            "wait_interval": 0
          },
          "output_extras": [
            {
              "item_id": 1
            }
          ],
          "base_uri": "https://localhost:8080/",
          "height": 389
        },
        "outputId": "fab06f6d-2943-4416-c9c0-5a35788e0be8",
        "executionInfo": {
          "status": "ok",
          "timestamp": 1521267788352,
          "user_tz": -330,
          "elapsed": 970,
          "user": {
            "displayName": "Yash Sharma",
            "photoUrl": "https://lh3.googleusercontent.com/a/default-user=s128",
            "userId": "108976527381887191513"
          }
        }
      },
      "cell_type": "code",
      "source": [
        "movies.head()"
      ],
      "execution_count": 17,
      "outputs": [
        {
          "output_type": "execute_result",
          "data": {
            "text/html": [
              "<div>\n",
              "<style scoped>\n",
              "    .dataframe tbody tr th:only-of-type {\n",
              "        vertical-align: middle;\n",
              "    }\n",
              "\n",
              "    .dataframe tbody tr th {\n",
              "        vertical-align: top;\n",
              "    }\n",
              "\n",
              "    .dataframe thead th {\n",
              "        text-align: right;\n",
              "    }\n",
              "</style>\n",
              "<table border=\"1\" class=\"dataframe\">\n",
              "  <thead>\n",
              "    <tr style=\"text-align: right;\">\n",
              "      <th></th>\n",
              "      <th>movie_id</th>\n",
              "      <th>movie_title</th>\n",
              "      <th>release_date</th>\n",
              "      <th>video_release_date</th>\n",
              "      <th>IMDb</th>\n",
              "      <th>unknown</th>\n",
              "      <th>Action</th>\n",
              "      <th>Adventure</th>\n",
              "      <th>Animation</th>\n",
              "      <th>Children's</th>\n",
              "      <th>...</th>\n",
              "      <th>Fantasy</th>\n",
              "      <th>Film-Noir</th>\n",
              "      <th>Horror</th>\n",
              "      <th>Musical</th>\n",
              "      <th>Mystery</th>\n",
              "      <th>Romance</th>\n",
              "      <th>Sci-Fi</th>\n",
              "      <th>Thriller</th>\n",
              "      <th>War</th>\n",
              "      <th>Western</th>\n",
              "    </tr>\n",
              "  </thead>\n",
              "  <tbody>\n",
              "    <tr>\n",
              "      <th>0</th>\n",
              "      <td>0</td>\n",
              "      <td>Toy Story (1995)</td>\n",
              "      <td>01-Jan-1995</td>\n",
              "      <td>NaN</td>\n",
              "      <td>http://us.imdb.com/M/title-exact?Toy%20Story%2...</td>\n",
              "      <td>0</td>\n",
              "      <td>0</td>\n",
              "      <td>0</td>\n",
              "      <td>1</td>\n",
              "      <td>1</td>\n",
              "      <td>...</td>\n",
              "      <td>0</td>\n",
              "      <td>0</td>\n",
              "      <td>0</td>\n",
              "      <td>0</td>\n",
              "      <td>0</td>\n",
              "      <td>0</td>\n",
              "      <td>0</td>\n",
              "      <td>0</td>\n",
              "      <td>0</td>\n",
              "      <td>0</td>\n",
              "    </tr>\n",
              "    <tr>\n",
              "      <th>1</th>\n",
              "      <td>1</td>\n",
              "      <td>GoldenEye (1995)</td>\n",
              "      <td>01-Jan-1995</td>\n",
              "      <td>NaN</td>\n",
              "      <td>http://us.imdb.com/M/title-exact?GoldenEye%20(...</td>\n",
              "      <td>0</td>\n",
              "      <td>1</td>\n",
              "      <td>1</td>\n",
              "      <td>0</td>\n",
              "      <td>0</td>\n",
              "      <td>...</td>\n",
              "      <td>0</td>\n",
              "      <td>0</td>\n",
              "      <td>0</td>\n",
              "      <td>0</td>\n",
              "      <td>0</td>\n",
              "      <td>0</td>\n",
              "      <td>0</td>\n",
              "      <td>1</td>\n",
              "      <td>0</td>\n",
              "      <td>0</td>\n",
              "    </tr>\n",
              "    <tr>\n",
              "      <th>2</th>\n",
              "      <td>2</td>\n",
              "      <td>Four Rooms (1995)</td>\n",
              "      <td>01-Jan-1995</td>\n",
              "      <td>NaN</td>\n",
              "      <td>http://us.imdb.com/M/title-exact?Four%20Rooms%...</td>\n",
              "      <td>0</td>\n",
              "      <td>0</td>\n",
              "      <td>0</td>\n",
              "      <td>0</td>\n",
              "      <td>0</td>\n",
              "      <td>...</td>\n",
              "      <td>0</td>\n",
              "      <td>0</td>\n",
              "      <td>0</td>\n",
              "      <td>0</td>\n",
              "      <td>0</td>\n",
              "      <td>0</td>\n",
              "      <td>0</td>\n",
              "      <td>1</td>\n",
              "      <td>0</td>\n",
              "      <td>0</td>\n",
              "    </tr>\n",
              "    <tr>\n",
              "      <th>3</th>\n",
              "      <td>3</td>\n",
              "      <td>Get Shorty (1995)</td>\n",
              "      <td>01-Jan-1995</td>\n",
              "      <td>NaN</td>\n",
              "      <td>http://us.imdb.com/M/title-exact?Get%20Shorty%...</td>\n",
              "      <td>0</td>\n",
              "      <td>1</td>\n",
              "      <td>0</td>\n",
              "      <td>0</td>\n",
              "      <td>0</td>\n",
              "      <td>...</td>\n",
              "      <td>0</td>\n",
              "      <td>0</td>\n",
              "      <td>0</td>\n",
              "      <td>0</td>\n",
              "      <td>0</td>\n",
              "      <td>0</td>\n",
              "      <td>0</td>\n",
              "      <td>0</td>\n",
              "      <td>0</td>\n",
              "      <td>0</td>\n",
              "    </tr>\n",
              "    <tr>\n",
              "      <th>4</th>\n",
              "      <td>4</td>\n",
              "      <td>Copycat (1995)</td>\n",
              "      <td>01-Jan-1995</td>\n",
              "      <td>NaN</td>\n",
              "      <td>http://us.imdb.com/M/title-exact?Copycat%20(1995)</td>\n",
              "      <td>0</td>\n",
              "      <td>0</td>\n",
              "      <td>0</td>\n",
              "      <td>0</td>\n",
              "      <td>0</td>\n",
              "      <td>...</td>\n",
              "      <td>0</td>\n",
              "      <td>0</td>\n",
              "      <td>0</td>\n",
              "      <td>0</td>\n",
              "      <td>0</td>\n",
              "      <td>0</td>\n",
              "      <td>0</td>\n",
              "      <td>1</td>\n",
              "      <td>0</td>\n",
              "      <td>0</td>\n",
              "    </tr>\n",
              "  </tbody>\n",
              "</table>\n",
              "<p>5 rows × 24 columns</p>\n",
              "</div>"
            ],
            "text/plain": [
              "   movie_id        movie_title release_date  video_release_date  \\\n",
              "0         0   Toy Story (1995)  01-Jan-1995                 NaN   \n",
              "1         1   GoldenEye (1995)  01-Jan-1995                 NaN   \n",
              "2         2  Four Rooms (1995)  01-Jan-1995                 NaN   \n",
              "3         3  Get Shorty (1995)  01-Jan-1995                 NaN   \n",
              "4         4     Copycat (1995)  01-Jan-1995                 NaN   \n",
              "\n",
              "                                                IMDb  unknown  Action  \\\n",
              "0  http://us.imdb.com/M/title-exact?Toy%20Story%2...        0       0   \n",
              "1  http://us.imdb.com/M/title-exact?GoldenEye%20(...        0       1   \n",
              "2  http://us.imdb.com/M/title-exact?Four%20Rooms%...        0       0   \n",
              "3  http://us.imdb.com/M/title-exact?Get%20Shorty%...        0       1   \n",
              "4  http://us.imdb.com/M/title-exact?Copycat%20(1995)        0       0   \n",
              "\n",
              "   Adventure  Animation  Children's   ...     Fantasy  Film-Noir  Horror  \\\n",
              "0          0          1           1   ...           0          0       0   \n",
              "1          1          0           0   ...           0          0       0   \n",
              "2          0          0           0   ...           0          0       0   \n",
              "3          0          0           0   ...           0          0       0   \n",
              "4          0          0           0   ...           0          0       0   \n",
              "\n",
              "   Musical  Mystery  Romance  Sci-Fi  Thriller  War  Western  \n",
              "0        0        0        0       0         0    0        0  \n",
              "1        0        0        0       0         1    0        0  \n",
              "2        0        0        0       0         1    0        0  \n",
              "3        0        0        0       0         0    0        0  \n",
              "4        0        0        0       0         1    0        0  \n",
              "\n",
              "[5 rows x 24 columns]"
            ]
          },
          "metadata": {
            "tags": []
          },
          "execution_count": 17
        }
      ]
    },
    {
      "metadata": {
        "id": "h2wgK3zp7HSt",
        "colab_type": "code",
        "colab": {
          "autoexec": {
            "startup": false,
            "wait_interval": 0
          },
          "output_extras": [
            {
              "item_id": 1
            }
          ],
          "base_uri": "https://localhost:8080/",
          "height": 51
        },
        "outputId": "22faa41e-c1c1-48d0-8c84-41acfba7c50e",
        "executionInfo": {
          "status": "ok",
          "timestamp": 1521267792531,
          "user_tz": -330,
          "elapsed": 982,
          "user": {
            "displayName": "Yash Sharma",
            "photoUrl": "https://lh3.googleusercontent.com/a/default-user=s128",
            "userId": "108976527381887191513"
          }
        }
      },
      "cell_type": "code",
      "source": [
        "movies['movie_title'][(movies['movie_id'] == 49)]"
      ],
      "execution_count": 18,
      "outputs": [
        {
          "output_type": "execute_result",
          "data": {
            "text/plain": [
              "49    Star Wars (1977)\n",
              "Name: movie_title, dtype: object"
            ]
          },
          "metadata": {
            "tags": []
          },
          "execution_count": 18
        }
      ]
    },
    {
      "metadata": {
        "id": "QRxHrTvM8nrE",
        "colab_type": "text"
      },
      "cell_type": "markdown",
      "source": [
        "Star Wars (1977) have most ratings"
      ]
    },
    {
      "metadata": {
        "id": "9b8VQtPU806-",
        "colab_type": "text"
      },
      "cell_type": "markdown",
      "source": [
        "## Train-Test Split\n",
        "\n",
        "  - 80% - Training<br>\n",
        "  - 20% - Testing"
      ]
    },
    {
      "metadata": {
        "id": "DymINvMNPw6j",
        "colab_type": "code",
        "colab": {
          "autoexec": {
            "startup": false,
            "wait_interval": 0
          }
        }
      },
      "cell_type": "code",
      "source": [
        "idx, ratings = movie_ratings[['user_id', 'movie_id']], movie_ratings.rating.values"
      ],
      "execution_count": 0,
      "outputs": []
    },
    {
      "metadata": {
        "id": "smOzLly-7vfA",
        "colab_type": "code",
        "colab": {
          "autoexec": {
            "startup": false,
            "wait_interval": 0
          }
        }
      },
      "cell_type": "code",
      "source": [
        "train_idx, test_idx, train_ratings, test_ratings = train_test_split(idx, ratings, test_size = 0.2, random_state = 14)"
      ],
      "execution_count": 0,
      "outputs": []
    },
    {
      "metadata": {
        "id": "NRtlX4m29dlr",
        "colab_type": "code",
        "colab": {
          "autoexec": {
            "startup": false,
            "wait_interval": 0
          },
          "output_extras": [
            {
              "item_id": 1
            }
          ],
          "base_uri": "https://localhost:8080/",
          "height": 34
        },
        "outputId": "69316534-8d3a-41b1-ed90-0f80fc63ce4b",
        "executionInfo": {
          "status": "ok",
          "timestamp": 1521267800427,
          "user_tz": -330,
          "elapsed": 983,
          "user": {
            "displayName": "Yash Sharma",
            "photoUrl": "https://lh3.googleusercontent.com/a/default-user=s128",
            "userId": "108976527381887191513"
          }
        }
      },
      "cell_type": "code",
      "source": [
        "train_idx.shape, train_ratings.shape"
      ],
      "execution_count": 21,
      "outputs": [
        {
          "output_type": "execute_result",
          "data": {
            "text/plain": [
              "((80000, 2), (80000,))"
            ]
          },
          "metadata": {
            "tags": []
          },
          "execution_count": 21
        }
      ]
    },
    {
      "metadata": {
        "id": "lqSm0ZftRgO1",
        "colab_type": "code",
        "colab": {
          "autoexec": {
            "startup": false,
            "wait_interval": 0
          },
          "output_extras": [
            {
              "item_id": 1
            }
          ],
          "base_uri": "https://localhost:8080/",
          "height": 34
        },
        "outputId": "a7470307-8689-441a-e454-879b278ca12d",
        "executionInfo": {
          "status": "ok",
          "timestamp": 1521267803359,
          "user_tz": -330,
          "elapsed": 972,
          "user": {
            "displayName": "Yash Sharma",
            "photoUrl": "https://lh3.googleusercontent.com/a/default-user=s128",
            "userId": "108976527381887191513"
          }
        }
      },
      "cell_type": "code",
      "source": [
        "test_idx.shape, test_ratings.shape"
      ],
      "execution_count": 22,
      "outputs": [
        {
          "output_type": "execute_result",
          "data": {
            "text/plain": [
              "((20000, 2), (20000,))"
            ]
          },
          "metadata": {
            "tags": []
          },
          "execution_count": 22
        }
      ]
    },
    {
      "metadata": {
        "id": "rj4BThcP9jLU",
        "colab_type": "text"
      },
      "cell_type": "markdown",
      "source": [
        "## Deep Model"
      ]
    },
    {
      "metadata": {
        "id": "A99ohCWq96Nw",
        "colab_type": "code",
        "colab": {
          "autoexec": {
            "startup": false,
            "wait_interval": 0
          }
        }
      },
      "cell_type": "code",
      "source": [
        "num_users = len(movie_ratings.user_id.unique())\n",
        "num_movies = len(movie_ratings.movie_id.unique())"
      ],
      "execution_count": 0,
      "outputs": []
    },
    {
      "metadata": {
        "id": "lRLCEUWS9qnr",
        "colab_type": "code",
        "colab": {
          "autoexec": {
            "startup": false,
            "wait_interval": 0
          }
        }
      },
      "cell_type": "code",
      "source": [
        "K.clear_session()\n",
        "\n",
        "# User Embedding\n",
        "user_input = Input(shape = [1], name = 'User_Input')\n",
        "user_embedd = Embedding(num_users+1, 10, name = \"User_Embedding\")(user_input)\n",
        "user_flat = Flatten(name = \"User_Embedding_Flat\")(user_embedd)\n",
        "\n",
        "# Movie Embedding\n",
        "movie_input = Input(shape = [1], name = 'Movie_Input')\n",
        "movie_embedd = Embedding(num_movies+1, 10, name = \"Movie_Embedding\")(movie_input)\n",
        "movie_flat = Flatten(name = \"Movie_Embedding_Flat\")(movie_embedd)\n",
        "\n",
        "# Concat b/w user & movie\n",
        "user_movie_concat = Concatenate(name = \"User_Movie_Concat\")([user_flat, movie_flat])\n",
        "\n",
        "# Dense\n",
        "user_movie = Dense(128, activation = 'relu')(user_movie_concat)\n",
        "user_movie = Dense(64, activation = 'relu')(user_movie)\n",
        "user_movie = Dense(32, activation = 'relu')(user_movie)\n",
        "user_movie = Dense(1)(user_movie)"
      ],
      "execution_count": 0,
      "outputs": []
    },
    {
      "metadata": {
        "id": "y13Dgh3q_ZUQ",
        "colab_type": "code",
        "colab": {
          "autoexec": {
            "startup": false,
            "wait_interval": 0
          },
          "output_extras": [
            {
              "item_id": 1
            }
          ],
          "base_uri": "https://localhost:8080/",
          "height": 527
        },
        "outputId": "6df3af4d-8fd7-4773-f518-767d5d03fefa",
        "executionInfo": {
          "status": "ok",
          "timestamp": 1521267837574,
          "user_tz": -330,
          "elapsed": 984,
          "user": {
            "displayName": "Yash Sharma",
            "photoUrl": "https://lh3.googleusercontent.com/a/default-user=s128",
            "userId": "108976527381887191513"
          }
        }
      },
      "cell_type": "code",
      "source": [
        "model = Model(inputs = [user_input, movie_input], outputs = user_movie)\n",
        "model.compile(loss = 'mse', optimizer = 'adam')\n",
        "\n",
        "model.summary()"
      ],
      "execution_count": 26,
      "outputs": [
        {
          "output_type": "stream",
          "text": [
            "__________________________________________________________________________________________________\n",
            "Layer (type)                    Output Shape         Param #     Connected to                     \n",
            "==================================================================================================\n",
            "User_Input (InputLayer)         (None, 1)            0                                            \n",
            "__________________________________________________________________________________________________\n",
            "Movie_Input (InputLayer)        (None, 1)            0                                            \n",
            "__________________________________________________________________________________________________\n",
            "User_Embedding (Embedding)      (None, 1, 10)        9440        User_Input[0][0]                 \n",
            "__________________________________________________________________________________________________\n",
            "Movie_Embedding (Embedding)     (None, 1, 10)        16830       Movie_Input[0][0]                \n",
            "__________________________________________________________________________________________________\n",
            "User_Embedding_Flat (Flatten)   (None, 10)           0           User_Embedding[0][0]             \n",
            "__________________________________________________________________________________________________\n",
            "Movie_Embedding_Flat (Flatten)  (None, 10)           0           Movie_Embedding[0][0]            \n",
            "__________________________________________________________________________________________________\n",
            "User_Movie_Concat (Concatenate) (None, 20)           0           User_Embedding_Flat[0][0]        \n",
            "                                                                 Movie_Embedding_Flat[0][0]       \n",
            "__________________________________________________________________________________________________\n",
            "dense_1 (Dense)                 (None, 128)          2688        User_Movie_Concat[0][0]          \n",
            "__________________________________________________________________________________________________\n",
            "dense_2 (Dense)                 (None, 64)           8256        dense_1[0][0]                    \n",
            "__________________________________________________________________________________________________\n",
            "dense_3 (Dense)                 (None, 32)           2080        dense_2[0][0]                    \n",
            "__________________________________________________________________________________________________\n",
            "dense_4 (Dense)                 (None, 1)            33          dense_3[0][0]                    \n",
            "==================================================================================================\n",
            "Total params: 39,327\n",
            "Trainable params: 39,327\n",
            "Non-trainable params: 0\n",
            "__________________________________________________________________________________________________\n"
          ],
          "name": "stdout"
        }
      ]
    },
    {
      "metadata": {
        "id": "JcUkRrvLnP1h",
        "colab_type": "code",
        "colab": {
          "autoexec": {
            "startup": false,
            "wait_interval": 0
          }
        }
      },
      "cell_type": "code",
      "source": [
        "# Loading the Saved Model\n",
        "model = load_model('movielens--epoch-5--loss-0.7100--val_loss-0.8145.h5')"
      ],
      "execution_count": 0,
      "outputs": []
    },
    {
      "metadata": {
        "id": "lFNUpM9_Ac34",
        "colab_type": "code",
        "colab": {
          "autoexec": {
            "startup": false,
            "wait_interval": 0
          }
        }
      },
      "cell_type": "code",
      "source": [
        "# Training\n",
        "#model.fit(x = [train_idx.user_id, train_idx.movie_id], y = train_ratings, epochs = 5, batch_size = 64, validation_split=0.1)"
      ],
      "execution_count": 0,
      "outputs": []
    },
    {
      "metadata": {
        "id": "lVi4PTuali_8",
        "colab_type": "code",
        "colab": {
          "autoexec": {
            "startup": false,
            "wait_interval": 0
          },
          "output_extras": [
            {
              "item_id": 1
            }
          ],
          "base_uri": "https://localhost:8080/",
          "height": 51
        },
        "outputId": "99e98f15-d5d9-4c27-e09f-188fa37f41fa",
        "executionInfo": {
          "status": "ok",
          "timestamp": 1521267866807,
          "user_tz": -330,
          "elapsed": 2156,
          "user": {
            "displayName": "Yash Sharma",
            "photoUrl": "https://lh3.googleusercontent.com/a/default-user=s128",
            "userId": "108976527381887191513"
          }
        }
      },
      "cell_type": "code",
      "source": [
        "# RMSE - Root Mean Square Error\n",
        "# MAE - Mean Absoulte Error\n",
        "\n",
        "y_pred = model.predict(x = [test_idx.user_id, test_idx.movie_id])\n",
        "y_true = test_ratings\n",
        "\n",
        "print (\"RMSE: {}\".format(np.sqrt(mean_squared_error(y_true, y_pred))))\n",
        "print (\"MAE: {}\".format(mean_absolute_error(y_true, y_pred)))"
      ],
      "execution_count": 28,
      "outputs": [
        {
          "output_type": "stream",
          "text": [
            "RMSE: 0.9350237787189393\n",
            "MAE: 0.7341826210319996\n"
          ],
          "name": "stdout"
        }
      ]
    },
    {
      "metadata": {
        "id": "O7AsKYyxkZKa",
        "colab_type": "code",
        "colab": {
          "autoexec": {
            "startup": false,
            "wait_interval": 0
          },
          "output_extras": [
            {
              "item_id": 1
            }
          ],
          "base_uri": "https://localhost:8080/",
          "height": 51
        },
        "outputId": "d77e7d7b-08d5-4b6c-ad30-4dde8584f0ce",
        "executionInfo": {
          "status": "ok",
          "timestamp": 1521267874603,
          "user_tz": -330,
          "elapsed": 5524,
          "user": {
            "displayName": "Yash Sharma",
            "photoUrl": "https://lh3.googleusercontent.com/a/default-user=s128",
            "userId": "108976527381887191513"
          }
        }
      },
      "cell_type": "code",
      "source": [
        "y_hat = model.predict(x = [movie_ratings.user_id, movie_ratings.movie_id])\n",
        "\n",
        "print (\"RMSE: {}\".format(np.sqrt(mean_squared_error(movie_ratings.rating, y_hat))))\n",
        "print (\"MAE: {}\".format(mean_absolute_error(movie_ratings.rating, y_hat)))"
      ],
      "execution_count": 29,
      "outputs": [
        {
          "output_type": "stream",
          "text": [
            "RMSE: 0.8404887651117902\n",
            "MAE: 0.6573724255001545\n"
          ],
          "name": "stdout"
        }
      ]
    },
    {
      "metadata": {
        "id": "hbEM6YhLh846",
        "colab_type": "text"
      },
      "cell_type": "markdown",
      "source": [
        "### Testing"
      ]
    },
    {
      "metadata": {
        "id": "gvveKWpxQip7",
        "colab_type": "code",
        "colab": {
          "autoexec": {
            "startup": false,
            "wait_interval": 0
          }
        }
      },
      "cell_type": "code",
      "source": [
        "test_user = 21"
      ],
      "execution_count": 0,
      "outputs": []
    },
    {
      "metadata": {
        "id": "AvOwLrimVvlE",
        "colab_type": "code",
        "colab": {
          "autoexec": {
            "startup": false,
            "wait_interval": 0
          }
        }
      },
      "cell_type": "code",
      "source": [
        "def predict_rating(u_id, m_id):\n",
        "  return model.predict([np.array([u_id]), np.array([m_id])])[0][0]"
      ],
      "execution_count": 0,
      "outputs": []
    },
    {
      "metadata": {
        "id": "tkI06nChTv5e",
        "colab_type": "code",
        "colab": {
          "autoexec": {
            "startup": false,
            "wait_interval": 0
          },
          "output_extras": [
            {
              "item_id": 1
            }
          ],
          "base_uri": "https://localhost:8080/",
          "height": 824
        },
        "outputId": "8e8288cf-d37d-443b-9fcb-a067b7c89ad9",
        "executionInfo": {
          "status": "ok",
          "timestamp": 1521267881507,
          "user_tz": -330,
          "elapsed": 990,
          "user": {
            "displayName": "Yash Sharma",
            "photoUrl": "https://lh3.googleusercontent.com/a/default-user=s128",
            "userId": "108976527381887191513"
          }
        }
      },
      "cell_type": "code",
      "source": [
        "user_ratings = movie_ratings[movie_ratings.user_id == test_user].drop('timestamp', axis = 1)\n",
        "user_ratings['prediction'] = user_ratings.apply(lambda x: predict_rating(test_user, x['movie_id']), axis = 1)\n",
        "user_ratings.sort_values(by = 'rating', ascending=False).merge(movies[['movie_id', 'movie_title']], on = 'movie_id', how='inner').head(25)"
      ],
      "execution_count": 32,
      "outputs": [
        {
          "output_type": "execute_result",
          "data": {
            "text/html": [
              "<div>\n",
              "<style scoped>\n",
              "    .dataframe tbody tr th:only-of-type {\n",
              "        vertical-align: middle;\n",
              "    }\n",
              "\n",
              "    .dataframe tbody tr th {\n",
              "        vertical-align: top;\n",
              "    }\n",
              "\n",
              "    .dataframe thead th {\n",
              "        text-align: right;\n",
              "    }\n",
              "</style>\n",
              "<table border=\"1\" class=\"dataframe\">\n",
              "  <thead>\n",
              "    <tr style=\"text-align: right;\">\n",
              "      <th></th>\n",
              "      <th>user_id</th>\n",
              "      <th>movie_id</th>\n",
              "      <th>rating</th>\n",
              "      <th>prediction</th>\n",
              "      <th>movie_title</th>\n",
              "    </tr>\n",
              "  </thead>\n",
              "  <tbody>\n",
              "    <tr>\n",
              "      <th>0</th>\n",
              "      <td>21</td>\n",
              "      <td>201</td>\n",
              "      <td>5</td>\n",
              "      <td>4.650165</td>\n",
              "      <td>Groundhog Day (1993)</td>\n",
              "    </tr>\n",
              "    <tr>\n",
              "      <th>1</th>\n",
              "      <td>21</td>\n",
              "      <td>186</td>\n",
              "      <td>5</td>\n",
              "      <td>4.204118</td>\n",
              "      <td>Godfather: Part II, The (1974)</td>\n",
              "    </tr>\n",
              "    <tr>\n",
              "      <th>2</th>\n",
              "      <td>21</td>\n",
              "      <td>193</td>\n",
              "      <td>5</td>\n",
              "      <td>4.572206</td>\n",
              "      <td>Sting, The (1973)</td>\n",
              "    </tr>\n",
              "    <tr>\n",
              "      <th>3</th>\n",
              "      <td>21</td>\n",
              "      <td>434</td>\n",
              "      <td>5</td>\n",
              "      <td>4.499319</td>\n",
              "      <td>Butch Cassidy and the Sundance Kid (1969)</td>\n",
              "    </tr>\n",
              "    <tr>\n",
              "      <th>4</th>\n",
              "      <td>21</td>\n",
              "      <td>88</td>\n",
              "      <td>5</td>\n",
              "      <td>4.275519</td>\n",
              "      <td>Blade Runner (1982)</td>\n",
              "    </tr>\n",
              "    <tr>\n",
              "      <th>5</th>\n",
              "      <td>21</td>\n",
              "      <td>175</td>\n",
              "      <td>5</td>\n",
              "      <td>4.543877</td>\n",
              "      <td>Aliens (1986)</td>\n",
              "    </tr>\n",
              "    <tr>\n",
              "      <th>6</th>\n",
              "      <td>21</td>\n",
              "      <td>549</td>\n",
              "      <td>5</td>\n",
              "      <td>3.720581</td>\n",
              "      <td>Die Hard: With a Vengeance (1995)</td>\n",
              "    </tr>\n",
              "    <tr>\n",
              "      <th>7</th>\n",
              "      <td>21</td>\n",
              "      <td>3</td>\n",
              "      <td>5</td>\n",
              "      <td>3.965003</td>\n",
              "      <td>Get Shorty (1995)</td>\n",
              "    </tr>\n",
              "    <tr>\n",
              "      <th>8</th>\n",
              "      <td>21</td>\n",
              "      <td>84</td>\n",
              "      <td>5</td>\n",
              "      <td>3.362275</td>\n",
              "      <td>Ref, The (1994)</td>\n",
              "    </tr>\n",
              "    <tr>\n",
              "      <th>9</th>\n",
              "      <td>21</td>\n",
              "      <td>514</td>\n",
              "      <td>5</td>\n",
              "      <td>4.690729</td>\n",
              "      <td>Boot, Das (1981)</td>\n",
              "    </tr>\n",
              "    <tr>\n",
              "      <th>10</th>\n",
              "      <td>21</td>\n",
              "      <td>237</td>\n",
              "      <td>5</td>\n",
              "      <td>4.001305</td>\n",
              "      <td>Raising Arizona (1987)</td>\n",
              "    </tr>\n",
              "    <tr>\n",
              "      <th>11</th>\n",
              "      <td>21</td>\n",
              "      <td>173</td>\n",
              "      <td>5</td>\n",
              "      <td>4.847395</td>\n",
              "      <td>Raiders of the Lost Ark (1981)</td>\n",
              "    </tr>\n",
              "    <tr>\n",
              "      <th>12</th>\n",
              "      <td>21</td>\n",
              "      <td>49</td>\n",
              "      <td>5</td>\n",
              "      <td>4.857759</td>\n",
              "      <td>Star Wars (1977)</td>\n",
              "    </tr>\n",
              "    <tr>\n",
              "      <th>13</th>\n",
              "      <td>21</td>\n",
              "      <td>126</td>\n",
              "      <td>5</td>\n",
              "      <td>4.370575</td>\n",
              "      <td>Godfather, The (1972)</td>\n",
              "    </tr>\n",
              "    <tr>\n",
              "      <th>14</th>\n",
              "      <td>21</td>\n",
              "      <td>454</td>\n",
              "      <td>5</td>\n",
              "      <td>3.000808</td>\n",
              "      <td>Jackie Chan's First Strike (1996)</td>\n",
              "    </tr>\n",
              "    <tr>\n",
              "      <th>15</th>\n",
              "      <td>21</td>\n",
              "      <td>357</td>\n",
              "      <td>5</td>\n",
              "      <td>1.508148</td>\n",
              "      <td>Spawn (1997)</td>\n",
              "    </tr>\n",
              "    <tr>\n",
              "      <th>16</th>\n",
              "      <td>21</td>\n",
              "      <td>207</td>\n",
              "      <td>5</td>\n",
              "      <td>4.696003</td>\n",
              "      <td>Young Frankenstein (1974)</td>\n",
              "    </tr>\n",
              "    <tr>\n",
              "      <th>17</th>\n",
              "      <td>21</td>\n",
              "      <td>203</td>\n",
              "      <td>5</td>\n",
              "      <td>4.523974</td>\n",
              "      <td>Back to the Future (1985)</td>\n",
              "    </tr>\n",
              "    <tr>\n",
              "      <th>18</th>\n",
              "      <td>21</td>\n",
              "      <td>167</td>\n",
              "      <td>5</td>\n",
              "      <td>4.541447</td>\n",
              "      <td>Monty Python and the Holy Grail (1974)</td>\n",
              "    </tr>\n",
              "    <tr>\n",
              "      <th>19</th>\n",
              "      <td>21</td>\n",
              "      <td>249</td>\n",
              "      <td>5</td>\n",
              "      <td>3.258974</td>\n",
              "      <td>Fifth Element, The (1997)</td>\n",
              "    </tr>\n",
              "    <tr>\n",
              "      <th>20</th>\n",
              "      <td>21</td>\n",
              "      <td>402</td>\n",
              "      <td>5</td>\n",
              "      <td>3.927250</td>\n",
              "      <td>Batman (1989)</td>\n",
              "    </tr>\n",
              "    <tr>\n",
              "      <th>21</th>\n",
              "      <td>21</td>\n",
              "      <td>152</td>\n",
              "      <td>5</td>\n",
              "      <td>4.010403</td>\n",
              "      <td>Fish Called Wanda, A (1988)</td>\n",
              "    </tr>\n",
              "    <tr>\n",
              "      <th>22</th>\n",
              "      <td>21</td>\n",
              "      <td>522</td>\n",
              "      <td>5</td>\n",
              "      <td>4.597405</td>\n",
              "      <td>Cool Hand Luke (1967)</td>\n",
              "    </tr>\n",
              "    <tr>\n",
              "      <th>23</th>\n",
              "      <td>21</td>\n",
              "      <td>143</td>\n",
              "      <td>5</td>\n",
              "      <td>4.589274</td>\n",
              "      <td>Die Hard (1988)</td>\n",
              "    </tr>\n",
              "    <tr>\n",
              "      <th>24</th>\n",
              "      <td>21</td>\n",
              "      <td>172</td>\n",
              "      <td>5</td>\n",
              "      <td>4.660126</td>\n",
              "      <td>Princess Bride, The (1987)</td>\n",
              "    </tr>\n",
              "  </tbody>\n",
              "</table>\n",
              "</div>"
            ],
            "text/plain": [
              "    user_id  movie_id  rating  prediction  \\\n",
              "0        21       201       5    4.650165   \n",
              "1        21       186       5    4.204118   \n",
              "2        21       193       5    4.572206   \n",
              "3        21       434       5    4.499319   \n",
              "4        21        88       5    4.275519   \n",
              "5        21       175       5    4.543877   \n",
              "6        21       549       5    3.720581   \n",
              "7        21         3       5    3.965003   \n",
              "8        21        84       5    3.362275   \n",
              "9        21       514       5    4.690729   \n",
              "10       21       237       5    4.001305   \n",
              "11       21       173       5    4.847395   \n",
              "12       21        49       5    4.857759   \n",
              "13       21       126       5    4.370575   \n",
              "14       21       454       5    3.000808   \n",
              "15       21       357       5    1.508148   \n",
              "16       21       207       5    4.696003   \n",
              "17       21       203       5    4.523974   \n",
              "18       21       167       5    4.541447   \n",
              "19       21       249       5    3.258974   \n",
              "20       21       402       5    3.927250   \n",
              "21       21       152       5    4.010403   \n",
              "22       21       522       5    4.597405   \n",
              "23       21       143       5    4.589274   \n",
              "24       21       172       5    4.660126   \n",
              "\n",
              "                                  movie_title  \n",
              "0                        Groundhog Day (1993)  \n",
              "1              Godfather: Part II, The (1974)  \n",
              "2                           Sting, The (1973)  \n",
              "3   Butch Cassidy and the Sundance Kid (1969)  \n",
              "4                         Blade Runner (1982)  \n",
              "5                               Aliens (1986)  \n",
              "6           Die Hard: With a Vengeance (1995)  \n",
              "7                           Get Shorty (1995)  \n",
              "8                             Ref, The (1994)  \n",
              "9                            Boot, Das (1981)  \n",
              "10                     Raising Arizona (1987)  \n",
              "11             Raiders of the Lost Ark (1981)  \n",
              "12                           Star Wars (1977)  \n",
              "13                      Godfather, The (1972)  \n",
              "14          Jackie Chan's First Strike (1996)  \n",
              "15                               Spawn (1997)  \n",
              "16                  Young Frankenstein (1974)  \n",
              "17                  Back to the Future (1985)  \n",
              "18     Monty Python and the Holy Grail (1974)  \n",
              "19                  Fifth Element, The (1997)  \n",
              "20                              Batman (1989)  \n",
              "21                Fish Called Wanda, A (1988)  \n",
              "22                      Cool Hand Luke (1967)  \n",
              "23                            Die Hard (1988)  \n",
              "24                 Princess Bride, The (1987)  "
            ]
          },
          "metadata": {
            "tags": []
          },
          "execution_count": 32
        }
      ]
    },
    {
      "metadata": {
        "id": "dQZ7s3nYocph",
        "colab_type": "text"
      },
      "cell_type": "markdown",
      "source": [
        "## End"
      ]
    },
    {
      "metadata": {
        "id": "3OYrMStoiVWU",
        "colab_type": "code",
        "colab": {
          "autoexec": {
            "startup": false,
            "wait_interval": 0
          }
        }
      },
      "cell_type": "code",
      "source": [
        ""
      ],
      "execution_count": 0,
      "outputs": []
    }
  ]
}